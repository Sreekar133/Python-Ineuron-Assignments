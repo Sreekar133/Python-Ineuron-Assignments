{
 "cells": [
  {
   "cell_type": "code",
   "execution_count": null,
   "id": "04fde7ee",
   "metadata": {},
   "outputs": [],
   "source": [
    "#What is the name of the feature responsible for generating Regex objects?\n",
    "\n",
    "The re.compile() function returns Regex objects."
   ]
  },
  {
   "cell_type": "code",
   "execution_count": null,
   "id": "1ad17435",
   "metadata": {},
   "outputs": [],
   "source": [
    "#Why do raw strings often appear in Regex objects?\n",
    "\n",
    "Raw strings are used so that backslashes do not have to be escaped."
   ]
  },
  {
   "cell_type": "code",
   "execution_count": null,
   "id": "1e62e992",
   "metadata": {},
   "outputs": [],
   "source": [
    "#What is the return value of the search() method?\n",
    "\n",
    "The search() method returns Match objects"
   ]
  },
  {
   "cell_type": "code",
   "execution_count": null,
   "id": "e08dcc1b",
   "metadata": {},
   "outputs": [],
   "source": [
    "#From a Match item, how do you get the actual strings that match the pattern?\n",
    "\n",
    "The group() method returns strings of the matched text."
   ]
  },
  {
   "cell_type": "code",
   "execution_count": null,
   "id": "14506036",
   "metadata": {},
   "outputs": [],
   "source": [
    "#In the regex which created from the r&#39;(\\d\\d\\d)-(\\d\\d\\d-\\d\\d\\d\\d)&#39;, what does group zero cover?\n",
    "#Group 2? Group 1?\n",
    "\n",
    "Group 0 is the entire match, group 1 covers the first set of parentheses, and group 2 covers the second set of parentheses.\n"
   ]
  },
  {
   "cell_type": "code",
   "execution_count": null,
   "id": "f9312480",
   "metadata": {},
   "outputs": [],
   "source": [
    "# In standard expression syntax, parentheses and intervals have distinct meanings. How can you tell\n",
    "# a regex that you want it to fit real parentheses and periods?\n",
    "\n",
    "Periods and parentheses can be escaped with a backslash: \\., \\(, and \\)."
   ]
  },
  {
   "cell_type": "code",
   "execution_count": null,
   "id": "89535013",
   "metadata": {},
   "outputs": [],
   "source": [
    "# #The findall() method returns a string list or a list of string tuples. What causes it to return one of\n",
    "# the two options?\n",
    "\n",
    "f the regex has no groups, a list of strings is returned. If the regex has groups, a list of tuples of strings is returned."
   ]
  },
  {
   "cell_type": "code",
   "execution_count": null,
   "id": "2820278c",
   "metadata": {},
   "outputs": [],
   "source": [
    "#In standard expressions, what does the | character mean?\n",
    "\n",
    "The | character signifies matching \"either, or\" between two groups."
   ]
  },
  {
   "cell_type": "code",
   "execution_count": null,
   "id": "bd23a8d5",
   "metadata": {},
   "outputs": [],
   "source": [
    "#In regular expressions, what does the character stand for?\n",
    "\n",
    "The ? character can either mean \"match zero or one of the preceding group\" or be used to signify nongreedy matching."
   ]
  },
  {
   "cell_type": "code",
   "execution_count": null,
   "id": "0743fe6c",
   "metadata": {},
   "outputs": [],
   "source": [
    "#In regular expressions, what is the difference between the + and * characters?\n",
    "\n",
    "The + matches one or more. The * matches zero or more."
   ]
  },
  {
   "cell_type": "code",
   "execution_count": null,
   "id": "d6dfce3c",
   "metadata": {},
   "outputs": [],
   "source": [
    "#What is the difference between {4} and {4,5} in regular expression?\n",
    "\n",
    "The {4} matches exactly four instances of the preceding group. The {4,5} matches between four and five instances."
   ]
  },
  {
   "cell_type": "code",
   "execution_count": null,
   "id": "c4ced133",
   "metadata": {},
   "outputs": [],
   "source": [
    " #What do you mean by the \\d, \\w, and \\s shorthand character classes signify in regular #expressions?\n",
    "    \n",
    "The \\d, \\w, and \\s shorthand character classes match a single digit, word, or space character, respectively"
   ]
  },
  {
   "cell_type": "code",
   "execution_count": null,
   "id": "b61514b9",
   "metadata": {},
   "outputs": [],
   "source": [
    "#What do means by \\D, \\W, and \\S shorthand character classes signify in regular expressions?\n",
    "\n",
    "The \\D, \\W, and \\S shorthand character classes match a single character that is not a digit, word, or space character, respectively."
   ]
  },
  {
   "cell_type": "code",
   "execution_count": null,
   "id": "b250fc68",
   "metadata": {},
   "outputs": [],
   "source": [
    "#What is the syntax for matching both numbers and lowercase letters with a character class?\n",
    "\n",
    "Either [0-9a-z] or [a-z0-9]"
   ]
  },
  {
   "cell_type": "code",
   "execution_count": null,
   "id": "2f046ed4",
   "metadata": {},
   "outputs": [],
   "source": [
    "#What is the procedure for making a normal expression in regax case insensitive?\n",
    "\n",
    "Passing re.I or re.IGNORECASE as the second argument to re.compile() will make the matching case insensitive."
   ]
  },
  {
   "cell_type": "code",
   "execution_count": null,
   "id": "e5b3e0a7",
   "metadata": {},
   "outputs": [],
   "source": [
    "# What does the . character normally match? What does it match if re.DOTALL is passed as 2nd\n",
    "# argument in re.compile()?\n",
    "\n",
    "The . character normally matches any character except the newline character. If re.DOTALL is passed as the second argument to re.compile(), then the dot will also match newline characters."
   ]
  },
  {
   "cell_type": "code",
   "execution_count": null,
   "id": "3051e90d",
   "metadata": {},
   "outputs": [],
   "source": [
    "# If numReg = re.compile(r&#39;\\d+&#39;), what will numRegex.sub(&#39;X&#39;, &#39;11 drummers, 10 pipers, five rings, 4\n",
    "hen&#39;) return?\n",
    "\n",
    "X drummers, X pipers, five rings, X hens"
   ]
  },
  {
   "cell_type": "code",
   "execution_count": null,
   "id": "a20aeb01",
   "metadata": {},
   "outputs": [],
   "source": [
    "#What does passing re.VERBOSE as the 2nd argument to re.compile() allow to do?\n",
    "\n",
    "The re.VERBOSE argument allows you to add whitespace and comments to the string passed to re.compile()."
   ]
  },
  {
   "cell_type": "code",
   "execution_count": 51,
   "id": "12f4a5c3",
   "metadata": {},
   "outputs": [
    {
     "name": "stdout",
     "output_type": "stream",
     "text": [
      "[]\n"
     ]
    }
   ],
   "source": [
    "#How would you write a regex that match a number with comma for every three digits? It must\n",
    "#match the given following:\n",
    "\n",
    "a=\"\"\"42\n",
    "1,234\n",
    "6,368,745\"\"\"\n",
    "\n",
    "\n",
    "\n",
    "import re\n",
    "result = re.compile(r'^\\d{1,3},\\d{1,3},\\[d]*$')\n",
    "final_result = result.findall(a)\n",
    "print(final_result)\n",
    "\n",
    "    "
   ]
  },
  {
   "cell_type": "code",
   "execution_count": 43,
   "id": "80a2d261",
   "metadata": {},
   "outputs": [
    {
     "name": "stdout",
     "output_type": "stream",
     "text": [
      "['Haruto Watanabe', 'Alice Watanabe', 'RoboCop Watanabe']\n"
     ]
    }
   ],
   "source": [
    "# How would you write a regex that matches the full name of someone whose last name is\n",
    "# Watanabe? You can assume that the first name that comes before it will always be one word that\n",
    "# begins with a capital letter. The regex must match the following:\n",
    "\n",
    "b=\"\"\"Haruto Watanabe\n",
    "Alice Watanabe\n",
    "RoboCop Watanabe\"\"\"\n",
    "\n",
    "import re\n",
    "result = re.findall(r'[A-Z][a-z]*\\sWatanabe',b,re.IGNORECASE)\n",
    "print(result)\n",
    "\n"
   ]
  },
  {
   "cell_type": "code",
   "execution_count": 58,
   "id": "02a0497f",
   "metadata": {},
   "outputs": [
    {
     "name": "stdout",
     "output_type": "stream",
     "text": [
      "NoneNoneNoneNoneNoneNoneNoneNoneNoneNoneNoneNoneNoneNoneNoneNoneNoneNoneNoneNoneNoneNoneNoneNoneNoneNoneNoneNoneNoneNoneNoneNoneNoneNoneNoneNoneNoneNoneNoneNoneNoneNoneNoneNoneNoneNoneNoneNoneNoneNoneNoneNoneNoneNoneNoneNoneNoneNoneNoneNoneNoneNoneNoneNoneNoneNoneNoneNoneNoneNoneNoneNone"
     ]
    }
   ],
   "source": [
    "c=\"\"\"Alice eats apples.\n",
    "Bob pets cats.\n",
    "Carol throws baseballs.\n",
    "BOB EATS CATS.\"\"\"\n",
    "import re\n",
    "for line in c:\n",
    "    result = re.search(r'\\[w]*\\s\\[w]*\\s\\[w]*',line,re.IGNORECASE)\n",
    "    print(result, end=\"\")\n",
    "    \n",
    "\n"
   ]
  },
  {
   "cell_type": "code",
   "execution_count": 55,
   "id": "f72eca86",
   "metadata": {},
   "outputs": [
    {
     "name": "stdout",
     "output_type": "stream",
     "text": [
      "Alice eats apples.\n",
      "Bob pets cats.\n",
      "Carol throws baseballs.\n",
      "BOB EATS CATS."
     ]
    }
   ],
   "source": [
    "c=\"\"\"Alice eats apples.\n",
    "Bob pets cats.\n",
    "Carol throws baseballs.\n",
    "BOB EATS CATS.\"\"\"\n",
    "\n",
    "for line in c:\n",
    "    print(line , end = \"\")"
   ]
  },
  {
   "cell_type": "code",
   "execution_count": 67,
   "id": "2cf6d9f0",
   "metadata": {},
   "outputs": [
    {
     "name": "stdout",
     "output_type": "stream",
     "text": [
      "['Alice eats apples', 'Bob pets cats', 'Carol throws baseballs', 'BOB EATS CATS']\n"
     ]
    }
   ],
   "source": [
    "import re\n",
    "c=\"\"\"Alice eats apples.\n",
    "Bob pets cats.\n",
    "Carol throws baseballs.\n",
    "BOB EATS CATS.\"\"\"\n",
    "result = re.findall(r'\\w{1,}\\s\\w{1,}\\s\\w{1,}',c,re.IGNORECASE)\n",
    "print(result)"
   ]
  },
  {
   "cell_type": "code",
   "execution_count": null,
   "id": "19a6d9ea",
   "metadata": {},
   "outputs": [],
   "source": []
  },
  {
   "cell_type": "code",
   "execution_count": null,
   "id": "961b0080",
   "metadata": {},
   "outputs": [],
   "source": []
  }
 ],
 "metadata": {
  "kernelspec": {
   "display_name": "Python 3 (ipykernel)",
   "language": "python",
   "name": "python3"
  },
  "language_info": {
   "codemirror_mode": {
    "name": "ipython",
    "version": 3
   },
   "file_extension": ".py",
   "mimetype": "text/x-python",
   "name": "python",
   "nbconvert_exporter": "python",
   "pygments_lexer": "ipython3",
   "version": "3.9.7"
  }
 },
 "nbformat": 4,
 "nbformat_minor": 5
}
