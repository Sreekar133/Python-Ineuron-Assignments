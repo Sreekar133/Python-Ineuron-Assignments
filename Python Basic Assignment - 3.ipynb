{
 "cells": [
  {
   "cell_type": "code",
   "execution_count": null,
   "id": "9d08c08b",
   "metadata": {},
   "outputs": [],
   "source": [
    "1. 1.Why are functions advantageous to have in your programs?\n",
    "\n",
    "A.Functions reduce the need for repetatibe tasks. This makes programs shorter, easier to read, and easier to update."
   ]
  },
  {
   "cell_type": "code",
   "execution_count": null,
   "id": "f5bfcf0c",
   "metadata": {},
   "outputs": [],
   "source": [
    "2.When does the code in a function run: when it is specified or when it is called?\n",
    "    \n",
    "Function will run when we call the name of the function\n"
   ]
  },
  {
   "cell_type": "code",
   "execution_count": null,
   "id": "56303762",
   "metadata": {},
   "outputs": [],
   "source": [
    "3.What statement creates a function?\n",
    "\n",
    "we should create a function by calling def test(a,b):\n",
    "    \n",
    "where def is a key word\n",
    "test is the name of the function\n",
    "a,b are the variables\n",
    "we should give parenthesis and should end with colon\n"
   ]
  },
  {
   "cell_type": "code",
   "execution_count": null,
   "id": "3c9e76bc",
   "metadata": {},
   "outputs": [],
   "source": [
    "4.What is the difference between a function and a function call?\n",
    "\n",
    "A function is procedure to achieve a particular result while function call is using this function to achive that task"
   ]
  },
  {
   "cell_type": "code",
   "execution_count": null,
   "id": "fc811621",
   "metadata": {},
   "outputs": [],
   "source": [
    "5. How many global scopes are there in a Python program? How many local scopes?\n",
    "\n",
    "we have 1 global scope and 1 local scope"
   ]
  },
  {
   "cell_type": "code",
   "execution_count": null,
   "id": "cd86182e",
   "metadata": {},
   "outputs": [],
   "source": [
    "6. What happens to variables in a local scope when the function call returns?\n",
    "\n",
    "When the execution of the function terminates (returns), the local variables are destroyed"
   ]
  },
  {
   "cell_type": "code",
   "execution_count": null,
   "id": "e0faeacf",
   "metadata": {},
   "outputs": [],
   "source": [
    "7. What is the concept of a return value? Is it possible to have a return value in an expression?\n",
    "\n",
    "return value will be used at the end of execution to give the output\n",
    "\n",
    "No, we can only use return value in functions"
   ]
  },
  {
   "cell_type": "code",
   "execution_count": null,
   "id": "a8010637",
   "metadata": {},
   "outputs": [],
   "source": [
    "8. If a function does not have a return statement, what is the return value of a call to that function?\\\n",
    "\n",
    "If a function doesnt specify a return value, it returns None"
   ]
  },
  {
   "cell_type": "code",
   "execution_count": null,
   "id": "61c59a8f",
   "metadata": {},
   "outputs": [],
   "source": [
    "9. How do you make a function variable refer to the global variable?\n",
    "\n",
    "web can make a variable as global by giving #global(variable) inside the function"
   ]
  },
  {
   "cell_type": "code",
   "execution_count": null,
   "id": "9dbc0b6d",
   "metadata": {},
   "outputs": [],
   "source": [
    "10. What is the data type of None?\n",
    "\n",
    "None is the datatype of None Type\n"
   ]
  },
  {
   "cell_type": "code",
   "execution_count": null,
   "id": "285ea596",
   "metadata": {},
   "outputs": [],
   "source": [
    "11. What does the sentence import areallyourpetsnamederic do?\n",
    "\n",
    "import areallyourpetsnamederic - It will impoet the module if we have the module in python library or in user created libraraies"
   ]
  },
  {
   "cell_type": "code",
   "execution_count": 2,
   "id": "2518abde",
   "metadata": {},
   "outputs": [],
   "source": [
    "12. If you had a bacon() feature in a spam module, what would you call it after importing spam?\n",
    "\n",
    "After importing spam, we will call bacon feature by #spam.bacon()\n",
    "\n"
   ]
  },
  {
   "cell_type": "code",
   "execution_count": null,
   "id": "cc0d22c6",
   "metadata": {},
   "outputs": [],
   "source": [
    "13. What can you do to save a programme from crashing if it encounters an error?\n",
    "\n",
    "we can write the program in try and except blocks, If any error occurs, the execution will move to Except block."
   ]
  },
  {
   "cell_type": "code",
   "execution_count": null,
   "id": "b11d5b6c",
   "metadata": {},
   "outputs": [],
   "source": [
    "14.What is the purpose of the try clause? What is the purpose of the except clause?\n",
    "\n",
    "Try block :\n",
    "    The try block lets you test a block of code for errors.\n",
    "    \n",
    "Except block :\n",
    "    The except block lets you handle the error and prevents from crashing."
   ]
  },
  {
   "cell_type": "code",
   "execution_count": null,
   "id": "348b46f1",
   "metadata": {},
   "outputs": [],
   "source": []
  }
 ],
 "metadata": {
  "kernelspec": {
   "display_name": "Python 3 (ipykernel)",
   "language": "python",
   "name": "python3"
  },
  "language_info": {
   "codemirror_mode": {
    "name": "ipython",
    "version": 3
   },
   "file_extension": ".py",
   "mimetype": "text/x-python",
   "name": "python",
   "nbconvert_exporter": "python",
   "pygments_lexer": "ipython3",
   "version": "3.9.7"
  }
 },
 "nbformat": 4,
 "nbformat_minor": 5
}
