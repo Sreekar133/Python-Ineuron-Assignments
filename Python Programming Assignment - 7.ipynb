{
 "cells": [
  {
   "cell_type": "code",
   "execution_count": 1,
   "id": "01266a90",
   "metadata": {},
   "outputs": [],
   "source": [
    "import array as arr"
   ]
  },
  {
   "cell_type": "code",
   "execution_count": 3,
   "id": "7de8afd4",
   "metadata": {},
   "outputs": [
    {
     "name": "stdout",
     "output_type": "stream",
     "text": [
      "45\n"
     ]
    }
   ],
   "source": [
    "#Write a Python Program to find sum of array?\n",
    "a = arr.array('i',[1,2,3,4,5,6,7,8,9])\n",
    "\n",
    "temp = 0\n",
    "for i in a:\n",
    "    temp = temp +i\n",
    "print(temp)"
   ]
  },
  {
   "cell_type": "code",
   "execution_count": 8,
   "id": "f804706e",
   "metadata": {},
   "outputs": [
    {
     "name": "stdout",
     "output_type": "stream",
     "text": [
      "9\n"
     ]
    }
   ],
   "source": [
    "#Write a Python Program to find largest element in an array?\n",
    "a = arr.array('i',[1,2,3,4,5,6,7,8,9])\n",
    "\n",
    "temp = a[0]\n",
    "\n",
    "for i in a:\n",
    "    if i > temp:\n",
    "        temp = i\n",
    "print(temp)\n",
    "\n",
    "\n"
   ]
  },
  {
   "cell_type": "code",
   "execution_count": 24,
   "id": "f2c6953c",
   "metadata": {},
   "outputs": [
    {
     "name": "stdout",
     "output_type": "stream",
     "text": [
      "14\n",
      "15\n",
      "16\n",
      "11\n",
      "12\n",
      "13\n"
     ]
    }
   ],
   "source": [
    "#Write a Python Program for array rotation?\n",
    "\n",
    "b = arr.array('i',[11,12,13,14,15,16])\n",
    "\n",
    "shift = 3\n",
    "\n",
    "for i in range(3):\n",
    "    temp = b[0]\n",
    "    \n",
    "    for j in range(len(b)-1):\n",
    "        b[j] = b[j+1]\n",
    "    \n",
    "    b[len(b)-1] = temp\n",
    "    \n",
    "    \n",
    "for i in range(len(b)):\n",
    "    print(b[i])"
   ]
  },
  {
   "cell_type": "code",
   "execution_count": 28,
   "id": "cc615210",
   "metadata": {},
   "outputs": [
    {
     "data": {
      "text/plain": [
       "array('i', [3, 4, 5, 6, 1, 2])"
      ]
     },
     "execution_count": 28,
     "metadata": {},
     "output_type": "execute_result"
    }
   ],
   "source": [
    "#Write a Python Program to Split the array and add the first part to the end?\n",
    "\n",
    "def split(ar, k):\n",
    "    ar = ar[k:] + ar[:k]\n",
    "    return ar\n",
    "\n",
    "ar=arr.array('i',[1,2,3,4,5,6])\n",
    "k=2\n",
    "\n",
    "split(ar,k)"
   ]
  },
  {
   "cell_type": "code",
   "execution_count": 58,
   "id": "e6b92b93",
   "metadata": {},
   "outputs": [],
   "source": [
    "#Write a Python Program to check if given array is Monotonic?\n",
    "\n",
    "d = arr.array('i',[1,2,3,4])\n",
    "def monotonic(d):\n",
    "    n=len(a)\n",
    "\n",
    "    if n ==1:\n",
    "        return \"it is monotomic\"\n",
    "\n",
    "\n",
    "    for i in range(0,len(d)-1):\n",
    "        if a[i] <= a[i+1]:\n",
    "            return \"it is monotonic\"\n",
    "        else:\n",
    "            return \"not monotonic\"\n",
    "            "
   ]
  },
  {
   "cell_type": "code",
   "execution_count": 59,
   "id": "3bd046fe",
   "metadata": {},
   "outputs": [
    {
     "data": {
      "text/plain": [
       "'it is monotonic'"
      ]
     },
     "execution_count": 59,
     "metadata": {},
     "output_type": "execute_result"
    }
   ],
   "source": [
    "e = arr.array('i',[4,3,2,1])\n",
    "              \n",
    "monotonic(e)"
   ]
  },
  {
   "cell_type": "code",
   "execution_count": 49,
   "id": "7fa9575f",
   "metadata": {},
   "outputs": [
    {
     "data": {
      "text/plain": [
       "builtin_function_or_method"
      ]
     },
     "execution_count": 49,
     "metadata": {},
     "output_type": "execute_result"
    }
   ],
   "source": []
  },
  {
   "cell_type": "code",
   "execution_count": null,
   "id": "21d44c6e",
   "metadata": {},
   "outputs": [],
   "source": []
  }
 ],
 "metadata": {
  "kernelspec": {
   "display_name": "Python 3 (ipykernel)",
   "language": "python",
   "name": "python3"
  },
  "language_info": {
   "codemirror_mode": {
    "name": "ipython",
    "version": 3
   },
   "file_extension": ".py",
   "mimetype": "text/x-python",
   "name": "python",
   "nbconvert_exporter": "python",
   "pygments_lexer": "ipython3",
   "version": "3.9.7"
  }
 },
 "nbformat": 4,
 "nbformat_minor": 5
}
