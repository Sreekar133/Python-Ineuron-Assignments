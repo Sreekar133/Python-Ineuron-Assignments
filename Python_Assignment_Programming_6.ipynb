{
 "cells": [
  {
   "cell_type": "code",
   "execution_count": 3,
   "id": "65e7dfeb",
   "metadata": {},
   "outputs": [
    {
     "name": "stdout",
     "output_type": "stream",
     "text": [
      "enter the num of terms5\n",
      "0\n",
      "1\n",
      "1\n",
      "2\n",
      "3\n"
     ]
    }
   ],
   "source": [
    "#Write a Python Program to Display Fibonacci Sequence Using Recursion?\n",
    "\n",
    "def recur_fib(n):\n",
    "    if n == 0:\n",
    "        return 0\n",
    "    elif n == 1:\n",
    "        return 1\n",
    "    else:\n",
    "        return recur_fib(n-1)+recur_fib(n-2)\n",
    "    \n",
    "    \n",
    "nterms = int(input(\"enter the num of terms\"))\n",
    "if nterms <= 0:\n",
    "    print(\"invalid\")\n",
    "             \n",
    "else:\n",
    "    for i in range(nterms):\n",
    "        print(recur_fib(i))\n",
    "\n",
    "    \n",
    "    \n"
   ]
  },
  {
   "cell_type": "code",
   "execution_count": 5,
   "id": "d91047d4",
   "metadata": {},
   "outputs": [
    {
     "data": {
      "text/plain": [
       "720"
      ]
     },
     "execution_count": 5,
     "metadata": {},
     "output_type": "execute_result"
    }
   ],
   "source": [
    "#Write a Python Program to Find Factorial of Number Using Recursion?\n",
    "\n",
    "def recur_factorial(n):\n",
    "    if n == 0:\n",
    "        return 1\n",
    "    else:\n",
    "        return n * recur_factorial(n-1)\n",
    "    \n",
    "recur_factorial(6)"
   ]
  },
  {
   "cell_type": "code",
   "execution_count": 8,
   "id": "5b0007d1",
   "metadata": {},
   "outputs": [
    {
     "name": "stdout",
     "output_type": "stream",
     "text": [
      "please enter your height(in cm)176\n",
      "please enter your weight(in kg's)75.8\n",
      "You are healthy.\n"
     ]
    }
   ],
   "source": [
    "#Write a Python Program to calculate your Body Mass Index?\n",
    "\n",
    "height = int(input(\"please enter your height(in cm)\"))\n",
    "weight = float(input(\"please enter your weight(in kg's)\"))\n",
    "\n",
    "BMI = weight/(height/100)**2\n",
    "\n",
    "if BMI <= 18.4:\n",
    "    print(\"You are underweight.\")\n",
    "elif BMI <= 24.9:\n",
    "    print(\"You are healthy.\")\n",
    "elif BMI <= 29.9:\n",
    "    print(\"You are over weight.\")\n",
    "elif BMI <= 34.9:\n",
    "    print(\"You are severely over weight.\")\n",
    "elif BMI <= 39.9:\n",
    "    print(\"You are obese.\")\n",
    "else:\n",
    "    print(\"You are severely obese.\")\n",
    "\n",
    "#print(\"your BMI is\",BMI)"
   ]
  },
  {
   "cell_type": "code",
   "execution_count": 10,
   "id": "789d9c12",
   "metadata": {},
   "outputs": [
    {
     "name": "stdout",
     "output_type": "stream",
     "text": [
      "please enter the number100\n",
      "log value of 100 is 4.605170185988092\n"
     ]
    }
   ],
   "source": [
    "#Write a Python Program to calculate the natural logarithm of any number?\n",
    "import math\n",
    "a = int(input(\"please enter the number\"))\n",
    "\n",
    "x = math.log(a)\n",
    "print(\"log value of\",a, 'is',x)"
   ]
  },
  {
   "cell_type": "code",
   "execution_count": 12,
   "id": "025d2df4",
   "metadata": {},
   "outputs": [
    {
     "name": "stdout",
     "output_type": "stream",
     "text": [
      "enter the number5\n",
      "225\n"
     ]
    }
   ],
   "source": [
    "#Write a Python Program for cube sum of first n natural numbers?\n",
    "\n",
    "n = int(input(\"enter the number\"))\n",
    "\n",
    "sum = 0\n",
    "\n",
    "for i in range(1,n+1):\n",
    "    sum = sum+i**3\n",
    "print(sum)"
   ]
  },
  {
   "cell_type": "code",
   "execution_count": 7,
   "id": "536abb89",
   "metadata": {},
   "outputs": [],
   "source": []
  },
  {
   "cell_type": "code",
   "execution_count": null,
   "id": "0be9aa4a",
   "metadata": {},
   "outputs": [],
   "source": []
  }
 ],
 "metadata": {
  "kernelspec": {
   "display_name": "Python 3 (ipykernel)",
   "language": "python",
   "name": "python3"
  },
  "language_info": {
   "codemirror_mode": {
    "name": "ipython",
    "version": 3
   },
   "file_extension": ".py",
   "mimetype": "text/x-python",
   "name": "python",
   "nbconvert_exporter": "python",
   "pygments_lexer": "ipython3",
   "version": "3.9.7"
  }
 },
 "nbformat": 4,
 "nbformat_minor": 5
}
