{
 "cells": [
  {
   "cell_type": "code",
   "execution_count": 2,
   "id": "b357357a",
   "metadata": {},
   "outputs": [],
   "source": [
    "1.What are the two values of the Boolean data type? How do you write them? \n",
    "    \n",
    "A variable of the primitive data type boolean can have two values: true and false.\n",
    "    \n",
    "The output of Boolean data types will also come in form of True or False\n",
    "\n"
   ]
  },
  {
   "cell_type": "code",
   "execution_count": null,
   "id": "2ba9b797",
   "metadata": {},
   "outputs": [],
   "source": [
    "2.What are the three different types of Boolean operators?\n",
    "\n",
    "The types of Boolean operators are AND,OR & NOT"
   ]
  },
  {
   "cell_type": "code",
   "execution_count": null,
   "id": "b5606e5d",
   "metadata": {},
   "outputs": [],
   "source": [
    "3.Make a list of each Boolean operator & its truth tables?\n",
    "\n",
    "AND Table : \n",
    "    \n",
    "1 0 = 0\n",
    "1 1 = 1\n",
    "0 1 = 0\n",
    "0 0 = 0\n",
    "\n",
    "OR TABLE :\n",
    "    \n",
    "0 0 = 0\n",
    "0 1 = 1\n",
    "1 0 = 1\n",
    "1 1 = 1\n",
    "\n",
    "\n",
    "NOT TABLE \n",
    "\n",
    "1 = 0\n",
    "0 = 1"
   ]
  },
  {
   "cell_type": "code",
   "execution_count": null,
   "id": "bec328c6",
   "metadata": {},
   "outputs": [],
   "source": [
    "4. What are the values of the following expressions?\n",
    "\n",
    "(5 > 4) and (3 == 5) = False\n",
    "\n",
    "not (5 >  4)  = False\n",
    "\n",
    "(5 &gt; 4) or (3 == 5) = True\n",
    "\n",
    "not ((5 > 4) or (3 == 5)) = False\n",
    "\n",
    "(True and True) and (True == False) = False\n",
    "\n",
    "(not False) or (not True) = True\n",
    "\n",
    "\n",
    "\n"
   ]
  },
  {
   "cell_type": "code",
   "execution_count": null,
   "id": "7d069832",
   "metadata": {},
   "outputs": [],
   "source": [
    "5.What are the six comparison operators?\n",
    "\n",
    "Less than ( < )\n",
    "Less than or equal to (<=)\n",
    "Greater than (>)\n",
    "Greater than or equal to (>=)\n",
    "Equal to ( == )\n",
    "Not equal to ( != )"
   ]
  },
  {
   "cell_type": "code",
   "execution_count": null,
   "id": "7a4955cf",
   "metadata": {},
   "outputs": [],
   "source": [
    "6. How do you tell the difference between the equal to and assignment operators?Describe a\n",
    "condition and when you would use one?\n",
    "\n",
    "equal to :\n",
    "It is a relational or comparison operator.\n",
    "t is used for comparing two values. \n",
    "\n",
    "Eg : a==5,b==2\n",
    "    \n",
    "    \n",
    "assignment operator : \n",
    "It is an assignment operator.\n",
    "It is used for assigning the value to a variable.\n",
    " \n",
    "a=5,b=5\n",
    "\n",
    "\n",
    "\n",
    "\n"
   ]
  },
  {
   "cell_type": "code",
   "execution_count": null,
   "id": "27a028a3",
   "metadata": {},
   "outputs": [],
   "source": [
    "7.Identify the three blocks in this code:\n",
    "    \n",
    "The three blocks are if,if and else blocks.\n",
    "\n",
    "if spam==10 then it will print eggs\n",
    "if spam greater than 5 it will print bacon\\\n",
    "in else if it any number which is given other the above the statements all the statements in else block will be executed.\n",
    "\n"
   ]
  },
  {
   "cell_type": "code",
   "execution_count": null,
   "id": "ca05ad02",
   "metadata": {},
   "outputs": [],
   "source": [
    "8.Write code that prints Hello if 1 is stored in spam, prints Howdy if 2 is stored in spam, and prints\n",
    "Greetings! if anything else is stored in spam.\n",
    "\n",
    "spam = int(input(\"enter the value\"))\n",
    "\n",
    "if spam == 1:\n",
    "    print(\"hello\")\n",
    "elif spam ==2:\n",
    "    print(\"Howdy\")\n",
    "    \n",
    "else:\n",
    "    print(\"greetings\")"
   ]
  },
  {
   "cell_type": "code",
   "execution_count": null,
   "id": "33403282",
   "metadata": {},
   "outputs": [],
   "source": [
    "9.If your programme is stuck in an endless loop, what keys you’ll press?\n",
    "\n",
    "Ctrl + C "
   ]
  },
  {
   "cell_type": "code",
   "execution_count": null,
   "id": "08a5ce16",
   "metadata": {},
   "outputs": [],
   "source": [
    "10. How can you tell the difference between break and continue?\n",
    "\n",
    " Break : This statement terminates the smallest enclosing loop (i.e., while, do-while, for loop, or switch statement.\n",
    "                                                                \n",
    " Continue : This statement skips the rest of the loop statement and starts the next iteration of the loop to take place                                                               "
   ]
  },
  {
   "cell_type": "code",
   "execution_count": null,
   "id": "6131319f",
   "metadata": {},
   "outputs": [],
   "source": [
    "11 . In a for loop, what is the difference between range(10), range(0, 10), and range(0, 10, 1)?\n",
    "\n",
    "All 3 mentioned range functions are same.\n",
    "\n",
    "\n",
    "    \n",
    "    "
   ]
  },
  {
   "cell_type": "code",
   "execution_count": 5,
   "id": "bab1477b",
   "metadata": {},
   "outputs": [
    {
     "name": "stdout",
     "output_type": "stream",
     "text": [
      "0\n",
      "1\n",
      "2\n",
      "3\n",
      "4\n",
      "5\n",
      "6\n",
      "7\n",
      "8\n",
      "9\n",
      "0\n",
      "1\n",
      "2\n",
      "3\n",
      "4\n",
      "5\n",
      "6\n",
      "7\n",
      "8\n",
      "9\n"
     ]
    }
   ],
   "source": [
    "#12.Write a short program that prints the numbers 1 to 10 using a for loop. Then write an equivalent\n",
    "#program that prints the numbers 1 to 10 using a while loop.\n",
    "\n",
    "Using for loop\n",
    "\n",
    "for i in range(10):\n",
    "    print(i)\n",
    "    \n",
    "Using while loop\n",
    "    \n",
    "i=0\n",
    "while i < 10:\n",
    "    print(i)\n",
    "    i=i+1"
   ]
  },
  {
   "cell_type": "code",
   "execution_count": null,
   "id": "c5c92b9b",
   "metadata": {},
   "outputs": [],
   "source": [
    "13. If you had a function named bacon() inside a module named spam, how would you call it after\n",
    "importing spam?\n",
    "\n",
    "we can write in 2 ways:\n",
    "    \n",
    "1. we can directly import the module  eg: import spam\n",
    "2. we can only take the function from the module   eg : from spam import bacon\n"
   ]
  }
 ],
 "metadata": {
  "kernelspec": {
   "display_name": "Python 3 (ipykernel)",
   "language": "python",
   "name": "python3"
  },
  "language_info": {
   "codemirror_mode": {
    "name": "ipython",
    "version": 3
   },
   "file_extension": ".py",
   "mimetype": "text/x-python",
   "name": "python",
   "nbconvert_exporter": "python",
   "pygments_lexer": "ipython3",
   "version": "3.9.7"
  }
 },
 "nbformat": 4,
 "nbformat_minor": 5
}
