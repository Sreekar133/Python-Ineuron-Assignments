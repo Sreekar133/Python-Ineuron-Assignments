{
 "cells": [
  {
   "cell_type": "code",
   "execution_count": 11,
   "id": "e9c200e3",
   "metadata": {},
   "outputs": [
    {
     "name": "stdout",
     "output_type": "stream",
     "text": [
      "provide d value100,150,180\n",
      "['100', '150', '180']\n",
      "18\n",
      "22\n",
      "24\n"
     ]
    }
   ],
   "source": [
    "# Write a Python Program which calculates and print th values according to given formula?\n",
    "\n",
    "import math\n",
    "C=50\n",
    "H=30\n",
    "\n",
    "numbers = input(\"provide d value\")\n",
    "\n",
    "numbers= numbers.split(\",\")\n",
    "\n",
    "print(numbers)\n",
    "\n",
    "for D in numbers:\n",
    "    Q = math.sqrt(2*C*int(D)/H)\n",
    "    print(int(Q),sep = \" \")\n",
    "    \n",
    "    \n",
    "\n",
    "    "
   ]
  },
  {
   "cell_type": "code",
   "execution_count": 21,
   "id": "2aac5163",
   "metadata": {},
   "outputs": [
    {
     "name": "stdout",
     "output_type": "stream",
     "text": [
      "please give the rows and coloums2,2\n",
      "2 2\n",
      "[4]\n",
      "[[4]]\n"
     ]
    }
   ],
   "source": [
    "#  Write a program which takes 2 digits, X,Y as input and generates a 2-dimensional array. The\n",
    "# element value in the i-th row and j-th column of the array should be i*j.\n",
    "\n",
    "userinput=input(\"please give the rows and coloums\")\n",
    "\n",
    "rows,coloums = userinput.split(\",\")\n",
    "print(rows,coloums)\n",
    "output=[]\n",
    "for i in rows:\n",
    "    row=[]\n",
    "    for j in coloums:\n",
    "        row.append(int(i)*int(j))\n",
    "    output.append(row)\n",
    "    print(row)\n",
    "    \n",
    "print(output)"
   ]
  },
  {
   "cell_type": "code",
   "execution_count": 30,
   "id": "b4aef75e",
   "metadata": {},
   "outputs": [
    {
     "name": "stdout",
     "output_type": "stream",
     "text": [
      "['without', 'hello', 'bag', 'world']\n",
      "['bag', 'hello', 'without', 'world']\n",
      "bag,hello,without,world\n"
     ]
    }
   ],
   "source": [
    "# Write a program that accepts a comma separated sequence of words as input and prints the\n",
    "# words in a comma-separated sequence after sorting them alphabetically.\n",
    "\n",
    "string=\"without,hello,bag,world\"\n",
    "\n",
    "string = string.split(\",\")\n",
    "\n",
    "print(string)\n",
    "\n",
    "string.sort()\n",
    "\n",
    "print(string)\n",
    "\n",
    "string2=\",\".join(string)\n",
    "print(string2)\n",
    "    \n",
    "\n",
    "\n"
   ]
  },
  {
   "cell_type": "code",
   "execution_count": 38,
   "id": "43a3cb96",
   "metadata": {},
   "outputs": [
    {
     "name": "stdout",
     "output_type": "stream",
     "text": [
      "['hello', 'world', 'and', 'practice', 'makes', 'perfect', 'and', 'hello', 'world', 'again']\n",
      "output is again and hello makes perfect practice world\n"
     ]
    }
   ],
   "source": [
    "#Write a program that accepts a sequence of whitespace separated words as input and prints\n",
    "#the words after removing all duplicate words and sorting them alphanumerically\n",
    "\n",
    "string = \"hello world and practice makes perfect and hello world again\"\n",
    "\n",
    "string = string.split(\" \")\n",
    "\n",
    "print(string)\n",
    "\n",
    "lst=[]\n",
    "\n",
    "for i in string:\n",
    "    if i not in lst:\n",
    "        lst.append(i)\n",
    "lst.sort()\n",
    "\n",
    "string=\" \".join(lst)\n",
    "        \n",
    "print(f'output is {string}')"
   ]
  },
  {
   "cell_type": "code",
   "execution_count": 43,
   "id": "fc7864df",
   "metadata": {},
   "outputs": [
    {
     "name": "stdout",
     "output_type": "stream",
     "text": [
      "count of letters is 10\n",
      "count of digit is 3\n"
     ]
    }
   ],
   "source": [
    "#Write a program that accepts a sentence and calculate the number of letters and digits.\n",
    "\n",
    "a=\"hello world! 123\"\n",
    "\n",
    "letters=0\n",
    "digit = 0\n",
    "\n",
    "for i in a:\n",
    "    if i.isalpha():\n",
    "        letters = letters +1\n",
    "        \n",
    "    elif i.isnumeric():\n",
    "        digit = digit+1\n",
    "        \n",
    "print(f\"count of letters is {letters}\")\n",
    "print(f\"count of digit is {digit}\")\n",
    "        \n",
    "        "
   ]
  },
  {
   "cell_type": "code",
   "execution_count": 9,
   "id": "811c0adf",
   "metadata": {},
   "outputs": [
    {
     "name": "stdout",
     "output_type": "stream",
     "text": [
      "please provide the passwordSreekar@1,PraveenYada@22,Thanooz@3\n",
      "The appropriate passwords areSreekar@1 Thanooz@3\n"
     ]
    }
   ],
   "source": [
    "# A website requires the users to input username and password to register. Write a program to\n",
    "# check the validity of password input by users.\n",
    "import re\n",
    "password = input(\"please provide the password\")\n",
    "\n",
    "password = password.split(\",\")\n",
    "\n",
    "result = []\n",
    "\n",
    "for i in password:\n",
    "    \n",
    "    if len(i) < 6 or len(i)>12:\n",
    "        continue\n",
    "        \n",
    "    elif not re.search(r'[a-z]+',i):\n",
    "        continue\n",
    "        \n",
    "    elif not re.search(r'[A-Z]+',i):\n",
    "        continue\n",
    "        \n",
    "    elif not re.search(r'\\d+',i):\n",
    "        continue\n",
    "        \n",
    "    elif not re.search(r'\\W+',i):\n",
    "        continue\n",
    "        \n",
    "    else:\n",
    "        result.append(i)\n",
    "        \n",
    "        \n",
    "final_result=(\" \").join(result)\n",
    "print(f\"The appropriate passwords are{final_result}\")\n",
    "        \n",
    "        \n",
    "    "
   ]
  },
  {
   "cell_type": "code",
   "execution_count": null,
   "id": "e06722a6",
   "metadata": {},
   "outputs": [],
   "source": []
  },
  {
   "cell_type": "code",
   "execution_count": null,
   "id": "439a663f",
   "metadata": {},
   "outputs": [],
   "source": []
  }
 ],
 "metadata": {
  "kernelspec": {
   "display_name": "Python 3 (ipykernel)",
   "language": "python",
   "name": "python3"
  },
  "language_info": {
   "codemirror_mode": {
    "name": "ipython",
    "version": 3
   },
   "file_extension": ".py",
   "mimetype": "text/x-python",
   "name": "python",
   "nbconvert_exporter": "python",
   "pygments_lexer": "ipython3",
   "version": "3.9.7"
  }
 },
 "nbformat": 4,
 "nbformat_minor": 5
}
