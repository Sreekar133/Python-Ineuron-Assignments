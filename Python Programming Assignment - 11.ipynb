{
 "cells": [
  {
   "cell_type": "code",
   "execution_count": 5,
   "id": "976d5b86",
   "metadata": {},
   "outputs": [
    {
     "name": "stdout",
     "output_type": "stream",
     "text": [
      "please enter the line\"I am learning Python Programming\n",
      "enter the k value4\n",
      "['\"I', 'am', 'learning', 'Python', 'Programming']\n",
      "learning\n",
      "Python\n",
      "Programming\n"
     ]
    }
   ],
   "source": [
    "#Write a Python program to find words which are greater than given length k?\n",
    "\n",
    "words = input(\"please enter the line\")\n",
    "k=int(input(\"enter the k value\"))\n",
    "\n",
    "words1=words.split(\" \")\n",
    "\n",
    "for word in words1:\n",
    "    if len(word) > k:\n",
    "        print(word)\n",
    "        \n",
    "        "
   ]
  },
  {
   "cell_type": "code",
   "execution_count": 22,
   "id": "1745b8cd",
   "metadata": {},
   "outputs": [
    {
     "name": "stdout",
     "output_type": "stream",
     "text": [
      "please enter the stringPython Programming\n",
      "please enter the index value of the charctere7\n",
      "Python rogramming\n"
     ]
    }
   ],
   "source": [
    "#Write a Python program for removing i-th character from a string?\n",
    "\n",
    "string = input(\"please enter the string\")\n",
    "i = int(input(\"please enter the index value of the charctere\"))\n",
    "\n",
    "# for l in range(len(string)):\n",
    "#     if l == i:\n",
    "#         string = string.replace(string[i],\"\",1)\n",
    "#         print(string)\n",
    "\n",
    "a=string[:i]\n",
    "b=string[i+1:]\n",
    "\n",
    "print(a+b)"
   ]
  },
  {
   "cell_type": "code",
   "execution_count": 25,
   "id": "75d2060f",
   "metadata": {},
   "outputs": [
    {
     "name": "stdout",
     "output_type": "stream",
     "text": [
      "please enter the stringI am learning Python Programming\n",
      "split of string is ['I', 'am', 'learning', 'Python', 'Programming']\n",
      "join of string is I am learning Python Programming\n"
     ]
    }
   ],
   "source": [
    "#Write a Python program to split and join a string?\n",
    "\n",
    "string = input(\"please enter the string\")\n",
    "\n",
    "split_output = string.split(\" \")\n",
    "print(\"split of string is\",split_output)\n",
    "\n",
    "join_output = \" \".join(split_output)\n",
    "print(\"join of string is\",join_output)"
   ]
  },
  {
   "cell_type": "code",
   "execution_count": 34,
   "id": "4f91e6e3",
   "metadata": {},
   "outputs": [
    {
     "name": "stdout",
     "output_type": "stream",
     "text": [
      "please provide the binary string0101010101001010\n",
      "It is a binary string\n"
     ]
    }
   ],
   "source": [
    "#Write a Python to check if a given string is binary string or not?\n",
    "\n",
    "string  = input(\"please provide the binary string\")\n",
    "\n",
    "flag = 0\n",
    "\n",
    "b = \"01\"\n",
    "\n",
    "for i in string:\n",
    "    if i not in b:\n",
    "        flag=flag+1\n",
    "    else:\n",
    "        pass\n",
    "if flag==1:\n",
    "    print(\"It is not a binary string\")\n",
    "else:\n",
    "    print(\"It is a binary string\")\n",
    "\n",
    "# p = set(string)\n",
    "\n",
    "# a = {\"0\",\"1\"}\n",
    "\n",
    "\n",
    "# if p==a or p=={\"0\"} or p=={\"1\"}:\n",
    "#     print(\"It is a binary string\")\n",
    "# else:\n",
    "#     print(\"not a binary string\")\n",
    "    \n",
    "    \n"
   ]
  },
  {
   "cell_type": "code",
   "execution_count": 44,
   "id": "83190ce8",
   "metadata": {},
   "outputs": [
    {
     "name": "stdout",
     "output_type": "stream",
     "text": [
      "please enter the stringPython SQL MongoDB SQLLite Pandas\n",
      "please provide anothe stringPython SQL MongoDB SQLLite Numpy MachineLearning\n",
      "output is  Pandas Numpy MachineLearning\n"
     ]
    }
   ],
   "source": [
    " #Write a Python program to find uncommon words from two Strings?\n",
    "    \n",
    "a = input(\"please enter the string\")\n",
    "b = input(\"please provide anothe string\")\n",
    "\n",
    "\n",
    "a1 = a.split(\" \")\n",
    "b1 = b.split(\" \")\n",
    "\n",
    "flag = \"\"\n",
    "for i in a1:\n",
    "    if i not in b1:\n",
    "        flag = flag+\" \"+i\n",
    "            \n",
    "for j in b1:\n",
    "     if j not in a1:\n",
    "        flag = flag+\" \"+j\n",
    "            \n",
    "print(\"output is\",flag)\n",
    "            \n"
   ]
  },
  {
   "cell_type": "code",
   "execution_count": 48,
   "id": "296dd173",
   "metadata": {},
   "outputs": [
    {
     "name": "stdout",
     "output_type": "stream",
     "text": [
      "please enter the stringhello world\n",
      "['l', 'l', 'o', 'o', 'l']\n"
     ]
    }
   ],
   "source": [
    "#Write a Python to find all duplicate characters in string?\n",
    "a = input(\"please enter the string\")\n",
    "\n",
    "duplicates = []\n",
    "\n",
    "for i in a:\n",
    "    if a.count(i) > 1:\n",
    "        duplicates.append(i)\n",
    "        \n",
    "print(duplicates)\n"
   ]
  },
  {
   "cell_type": "code",
   "execution_count": 51,
   "id": "fbca940a",
   "metadata": {},
   "outputs": [
    {
     "name": "stdout",
     "output_type": "stream",
     "text": [
      "please enter the stringPyth@n\n",
      "the string has special charcteres\n"
     ]
    }
   ],
   "source": [
    "#Write a Python Program to check if a string contains any special character?\n",
    "\n",
    "special_charctere='[@_!#$%^&*()<>?/\\|}{~:]'\n",
    "\n",
    "string = input(\"please enter the string\")\n",
    "count=0\n",
    "\n",
    "for i in string:\n",
    "    if i in special_charctere:\n",
    "        count = count+1\n",
    "        break\n",
    "    else:\n",
    "        pass\n",
    "    \n",
    "if count==1:\n",
    "    print(\"the string has special charcteres\")\n",
    "else:\n",
    "    print(\"it doesn't have special charcters\")"
   ]
  },
  {
   "cell_type": "code",
   "execution_count": null,
   "id": "e02b5611",
   "metadata": {},
   "outputs": [],
   "source": []
  }
 ],
 "metadata": {
  "kernelspec": {
   "display_name": "Python 3 (ipykernel)",
   "language": "python",
   "name": "python3"
  },
  "language_info": {
   "codemirror_mode": {
    "name": "ipython",
    "version": 3
   },
   "file_extension": ".py",
   "mimetype": "text/x-python",
   "name": "python",
   "nbconvert_exporter": "python",
   "pygments_lexer": "ipython3",
   "version": "3.9.7"
  }
 },
 "nbformat": 4,
 "nbformat_minor": 5
}
