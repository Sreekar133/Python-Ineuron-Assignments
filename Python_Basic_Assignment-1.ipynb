{
 "cells": [
  {
   "cell_type": "code",
   "execution_count": 1,
   "id": "b5238cbd",
   "metadata": {},
   "outputs": [],
   "source": [
    "#In the below elements which of them are avlues or expression? eg :- values can be integer or string and expressionbs will be mathematical operators\n",
    "\n",
    "#Ans :-\n",
    "# * = Multipication Operator\n",
    "# 'hello' = string type\n",
    "# -87.6 = integer type\n",
    "# / = Division Opearatoe\n",
    "# + = Addition Operator\n",
    "# 6 = integer type"
   ]
  },
  {
   "cell_type": "code",
   "execution_count": 3,
   "id": "027beec8",
   "metadata": {},
   "outputs": [],
   "source": [
    "#what is the difference between string and variable?\n",
    "\n",
    "#Ans:-\n",
    "# String :- \n",
    "# 1. String is a datatype which are composed by group of characaters enclosed om single or double quotataion marks.\n",
    "# 2. Strings are immutabale(cannot be changed)\n",
    "\n",
    "#Example :-   a = \"This is my 1 assignment\"\n",
    "\n",
    "# Variable :-\n",
    "# 1. Variables are used to store data, they take memory space based on the type of value we assigning to them\n",
    "\n",
    "#variable nameing rules in python:\n",
    "#1. Variables are case sensitive\n",
    "#2. Variables should start with characters (aA-zZ) or underscore.\n",
    "#3. Their should be no space while declaring variable for Eg:- full_name = \"Sreekar Reddy\"\n",
    "#4. Variabls should be not keywords.\n"
   ]
  },
  {
   "cell_type": "code",
   "execution_count": 4,
   "id": "785ef37f",
   "metadata": {},
   "outputs": [],
   "source": [
    "#Describe three different data types?\n",
    "\n",
    "#Ans:-\n",
    "#Interger :-\n",
    "# 1. Integer datatype contains negative and positive numbers without fraction or decimal point.\n",
    "# 2. Integer are also immutabel.\n",
    "#Eg : a=4\n",
    "\n",
    "#Float :-\n",
    "# 1. Float datatype contains real number with decimal.\n",
    "# Eg :- a=3.40 \n",
    "\n",
    "#Complex Numbers:-\n",
    "# 1. Complex data type contains real and imaginey part. \n",
    "# Eg :- 4+6j whereas 4= real part and 6j is imaginary part"
   ]
  },
  {
   "cell_type": "code",
   "execution_count": 6,
   "id": "94df5035",
   "metadata": {},
   "outputs": [],
   "source": [
    "#what are expression made up off?what do all expressions do?\n",
    "\n",
    "#1. An Expression is made up of values,variables,operators.\n",
    "#2. An Expression evaluates the values,variables and operators and produces a final value which is be stored in the memory."
   ]
  },
  {
   "cell_type": "code",
   "execution_count": 7,
   "id": "227513cf",
   "metadata": {},
   "outputs": [],
   "source": [
    "#This assignment statements, like spam=10.what is the difference between an expression and a statement.\n",
    "\n",
    "#Ans :-\n",
    "#Statement :-\n",
    "# 1. A statement will create or display value.It only does what statement says.\n",
    "# spam = 10  # It created a variable and 10 is stored in it.\n",
    "\n",
    "#Expression :-\n",
    "#1. An expresion will evaluate the values and those will be stored in a variable\n",
    "# spam = 10 # 10 is a arbitary expression that computes it\n",
    "\n"
   ]
  },
  {
   "cell_type": "code",
   "execution_count": 8,
   "id": "108f3454",
   "metadata": {},
   "outputs": [
    {
     "data": {
      "text/plain": [
       "23"
      ]
     },
     "execution_count": 8,
     "metadata": {},
     "output_type": "execute_result"
    }
   ],
   "source": [
    "# After running the following code, what does variable bacon contain?\n",
    "\n",
    "bacon=22\n",
    "bacon+1\n"
   ]
  },
  {
   "cell_type": "code",
   "execution_count": 14,
   "id": "a29394d3",
   "metadata": {},
   "outputs": [
    {
     "data": {
      "text/plain": [
       "22"
      ]
     },
     "execution_count": 14,
     "metadata": {},
     "output_type": "execute_result"
    }
   ],
   "source": [
    "bacon\n",
    "#the value of bacon remains \"22\" "
   ]
  },
  {
   "cell_type": "code",
   "execution_count": 12,
   "id": "6f00f39e",
   "metadata": {},
   "outputs": [
    {
     "data": {
      "text/plain": [
       "'spamspamspam'"
      ]
     },
     "execution_count": 12,
     "metadata": {},
     "output_type": "execute_result"
    }
   ],
   "source": [
    "#what should the values of the following two terms be?\n",
    "\n",
    "'spam'+'spamspam'\n",
    "'spam'*3\n",
    "\n",
    "# The output will be 'spamspamspam' for both the expressions.\n",
    "\n"
   ]
  },
  {
   "cell_type": "code",
   "execution_count": 13,
   "id": "6a3cbcaa",
   "metadata": {},
   "outputs": [],
   "source": [
    "# Why is eggs a valid variable while 100 is invalid?\n",
    "\n",
    "# According to variable rules in python, Variables should start with either alphabets or underscore(_). That is why eggs is valid wheras as 100 is not valid.\n",
    "\n"
   ]
  },
  {
   "cell_type": "code",
   "execution_count": 15,
   "id": "2c998666",
   "metadata": {},
   "outputs": [],
   "source": [
    "# what three functions can be used to get the integer,floating-point number, or string version of a value?\n",
    "# Ans:-\n",
    "\n",
    "# The int(), float(), and str() functions will evaluate to the integer, floating-point number, and string versions of the value passed to them."
   ]
  },
  {
   "cell_type": "code",
   "execution_count": 19,
   "id": "d76571a2",
   "metadata": {},
   "outputs": [
    {
     "data": {
      "text/plain": [
       "'I have eaten 99 burritos'"
      ]
     },
     "execution_count": 19,
     "metadata": {},
     "output_type": "execute_result"
    }
   ],
   "source": [
    "#why does this expression cause an error? How can you fix it\n",
    "\n",
    "'I have eaten ' +str(99)+' burritos'\n",
    "\n",
    "#we need to type case 99 into string."
   ]
  },
  {
   "cell_type": "code",
   "execution_count": null,
   "id": "26c4b2f7",
   "metadata": {},
   "outputs": [],
   "source": []
  }
 ],
 "metadata": {
  "kernelspec": {
   "display_name": "Python 3 (ipykernel)",
   "language": "python",
   "name": "python3"
  },
  "language_info": {
   "codemirror_mode": {
    "name": "ipython",
    "version": 3
   },
   "file_extension": ".py",
   "mimetype": "text/x-python",
   "name": "python",
   "nbconvert_exporter": "python",
   "pygments_lexer": "ipython3",
   "version": "3.9.7"
  }
 },
 "nbformat": 4,
 "nbformat_minor": 5
}
