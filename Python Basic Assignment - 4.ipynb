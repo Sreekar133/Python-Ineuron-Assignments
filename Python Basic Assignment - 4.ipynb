{
 "cells": [
  {
   "cell_type": "code",
   "execution_count": null,
   "id": "f677d54f",
   "metadata": {},
   "outputs": [],
   "source": [
    "1.What exactly is []?\n",
    "\n",
    "In Python, a list is created by placing elements inside square brackets [] and above mentioned [] is a empty list"
   ]
  },
  {
   "cell_type": "code",
   "execution_count": 3,
   "id": "18c6906b",
   "metadata": {},
   "outputs": [
    {
     "name": "stdout",
     "output_type": "stream",
     "text": [
      "[2, 4, 'hello', 8, 10]\n"
     ]
    }
   ],
   "source": [
    "#2.In a list of values stored in a variable called spam, how would you assign the value hello as the\n",
    "# third value? (Assume [2, 4, 6, 8, 10] are in spam.)\n",
    "\n",
    "spam = [2,4,6,8,10]\n",
    "\n",
    "spam[2] = \"hello\"\n",
    "print(spam)"
   ]
  },
  {
   "cell_type": "code",
   "execution_count": 6,
   "id": "987dad74",
   "metadata": {},
   "outputs": [
    {
     "name": "stdout",
     "output_type": "stream",
     "text": [
      "d\n"
     ]
    }
   ],
   "source": [
    "3.What is the value of spam[int(int('3' * 2) / 11)]?\n",
    "\n",
    "spam=['a','b','c','d']\n",
    "b = spam[int(int('3' * 2) / 11)]\n",
    "print(b)\n",
    "\n",
    "answer is 'd'\n",
    "\n",
    "\n",
    "\n",
    "\n"
   ]
  },
  {
   "cell_type": "code",
   "execution_count": 4,
   "id": "06a05a30",
   "metadata": {},
   "outputs": [
    {
     "data": {
      "text/plain": [
       "'33'"
      ]
     },
     "execution_count": 4,
     "metadata": {},
     "output_type": "execute_result"
    }
   ],
   "source": [
    "4.What is the value of spam[-1]?\n",
    "\n",
    "spam[-1] is 'd'"
   ]
  },
  {
   "cell_type": "code",
   "execution_count": null,
   "id": "b5ad0577",
   "metadata": {},
   "outputs": [],
   "source": [
    "5.What is the value of spam[:2]?\n",
    "\n",
    "spam[:2] is 'a','b'"
   ]
  },
  {
   "cell_type": "code",
   "execution_count": null,
   "id": "c6ecf1c2",
   "metadata": {},
   "outputs": [],
   "source": [
    "6.bacon =[3.14, 'cat', 11, 'cat', True]\n",
    "\n",
    "What is the value of bacon.index(cat)?\n",
    "\n",
    "value is 1"
   ]
  },
  {
   "cell_type": "code",
   "execution_count": null,
   "id": "d156846e",
   "metadata": {},
   "outputs": [],
   "source": [
    "7.How does bacon.append(99) change the look of the list value in bacon?\n",
    "\n",
    "It will add 99 to the list bacon at the end\n",
    "\n",
    "The output will be [3.14, 'cat', 11, 'cat', True,99]"
   ]
  },
  {
   "cell_type": "code",
   "execution_count": null,
   "id": "a3d640f4",
   "metadata": {},
   "outputs": [],
   "source": [
    "8.How does bacon.remove('cat') change the look of the list in bacon?\n",
    "\n",
    "remove function will delete 1st cat from the list the out put will be [3.14, 11, 'cat', True,99]\n",
    "                        \n"
   ]
  },
  {
   "cell_type": "code",
   "execution_count": null,
   "id": "771a9963",
   "metadata": {},
   "outputs": [],
   "source": [
    "9.What are the list concatenation and list replication operators?\n",
    "\n",
    "List concatenation will add the two lists whereas replication operators will multiply the values in the list"
   ]
  },
  {
   "cell_type": "code",
   "execution_count": 8,
   "id": "c6ce84b7",
   "metadata": {},
   "outputs": [],
   "source": [
    "10 . What is difference between the list methods append() and insert()?\n",
    "\n",
    "append will add the value at the end whereas insert will ask for index and in keep the values at that position"
   ]
  },
  {
   "cell_type": "code",
   "execution_count": null,
   "id": "a13c3e0b",
   "metadata": {},
   "outputs": [],
   "source": [
    "11. What are the two methods for removing items from a list?\n",
    "\n",
    "we can remove by remove(),pop(),clear()"
   ]
  },
  {
   "cell_type": "code",
   "execution_count": null,
   "id": "68300a2c",
   "metadata": {},
   "outputs": [],
   "source": [
    "12. Describe how list values and string values are identical.\n",
    "\n",
    "list and strings are both sequence types\n",
    "list and strings follow same indexing method\n",
    "lists are mutable(can be changed) and strings are immutable(cannot be changed)\n"
   ]
  },
  {
   "cell_type": "code",
   "execution_count": null,
   "id": "6d81ebd5",
   "metadata": {},
   "outputs": [],
   "source": [
    "13.Whats the difference between tuples and lists?\n",
    "\n",
    "lists are mutable whereas tuple are immutable\n",
    "lists are enclosed with [] where tuple are enclosed with ()\n"
   ]
  },
  {
   "cell_type": "code",
   "execution_count": null,
   "id": "90781e85",
   "metadata": {},
   "outputs": [],
   "source": [
    "14. How do you type a tuple value that only contains the integer 42?\n",
    "\n",
    "we can write as a = (42)"
   ]
  },
  {
   "cell_type": "code",
   "execution_count": null,
   "id": "3d03ae8b",
   "metadata": {},
   "outputs": [],
   "source": [
    "15.How do you get a list values tuple form? How do you get a tuple values list form?\n",
    "\n",
    "The tuple() and list() functions, respectively\n",
    "\n",
    "\n"
   ]
  },
  {
   "cell_type": "code",
   "execution_count": null,
   "id": "f93ec715",
   "metadata": {},
   "outputs": [],
   "source": [
    "16.Variables thatcontain list values are not necessarily lists themselves. Instead, what do they\n",
    "contain?\n",
    "\n",
    "They contain references to list values.\n",
    "\n"
   ]
  },
  {
   "cell_type": "code",
   "execution_count": null,
   "id": "262ed2a3",
   "metadata": {},
   "outputs": [],
   "source": [
    "17.How do you distinguish between copy.copy() and copy.deepcopy()?\n",
    "\n",
    "The copy.copy() function will do a shallow copy of a list\n",
    "\n",
    "copy.deepcopy() function will do a deep copy of a list. That is, only copy.deepcopy() will duplicate any lists inside the list."
   ]
  }
 ],
 "metadata": {
  "kernelspec": {
   "display_name": "Python 3 (ipykernel)",
   "language": "python",
   "name": "python3"
  },
  "language_info": {
   "codemirror_mode": {
    "name": "ipython",
    "version": 3
   },
   "file_extension": ".py",
   "mimetype": "text/x-python",
   "name": "python",
   "nbconvert_exporter": "python",
   "pygments_lexer": "ipython3",
   "version": "3.9.7"
  }
 },
 "nbformat": 4,
 "nbformat_minor": 5
}
