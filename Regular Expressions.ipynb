{
 "cells": [
  {
   "cell_type": "code",
   "execution_count": 1,
   "id": "2bbfa750",
   "metadata": {},
   "outputs": [],
   "source": [
    "import re"
   ]
  },
  {
   "cell_type": "code",
   "execution_count": 5,
   "id": "b02ecba8",
   "metadata": {},
   "outputs": [
    {
     "name": "stdout",
     "output_type": "stream",
     "text": [
      "madd\n"
     ]
    }
   ],
   "source": [
    "prog=re.compile(r'm\\w\\w\\w')\n",
    "string = \"man hen cat madddd\"\n",
    "result = prog.search(string)\n",
    "print(result.group())"
   ]
  },
  {
   "cell_type": "code",
   "execution_count": 6,
   "id": "4be18846",
   "metadata": {},
   "outputs": [
    {
     "name": "stdout",
     "output_type": "stream",
     "text": [
      "maddd\n"
     ]
    }
   ],
   "source": [
    "result = re.search(r'm\\w\\w\\w\\w',string)\n",
    "print(result.group())"
   ]
  },
  {
   "cell_type": "code",
   "execution_count": 8,
   "id": "13acef51",
   "metadata": {},
   "outputs": [
    {
     "name": "stdout",
     "output_type": "stream",
     "text": [
      "['man', 'mop', 'mad', 'min']\n"
     ]
    }
   ],
   "source": [
    "a = \"man mop mad mine\"\n",
    "\n",
    "result = re.findall(r'm\\w\\w', a)\n",
    "print(result)"
   ]
  },
  {
   "cell_type": "code",
   "execution_count": 45,
   "id": "7fcd7b2e",
   "metadata": {},
   "outputs": [
    {
     "name": "stdout",
     "output_type": "stream",
     "text": [
      "<re.Match object; span=(0, 3), match='man'>\n"
     ]
    }
   ],
   "source": [
    "a = \"man mop mad mine\"\n",
    "\n",
    "result = re.match(r'm\\w\\w',a)\n",
    "print(result)"
   ]
  },
  {
   "cell_type": "code",
   "execution_count": 13,
   "id": "ab307dee",
   "metadata": {},
   "outputs": [
    {
     "name": "stdout",
     "output_type": "stream",
     "text": [
      "['man', 'mop', 'mad', 'mine']\n"
     ]
    }
   ],
   "source": [
    "a = \"man mop mad mine\"\n",
    "\n",
    "result = re.split(r'\\W+',a)\n",
    "print(result)"
   ]
  },
  {
   "cell_type": "code",
   "execution_count": 14,
   "id": "2c734671",
   "metadata": {},
   "outputs": [
    {
     "name": "stdout",
     "output_type": "stream",
     "text": [
      "IPL is played in Dubai\n"
     ]
    }
   ],
   "source": [
    "a = \"IPL is played in India\"\n",
    "\n",
    "result = re.sub(r'India','Dubai',a)\n",
    "print(result)"
   ]
  },
  {
   "cell_type": "code",
   "execution_count": 20,
   "id": "2f31501f",
   "metadata": {},
   "outputs": [
    {
     "name": "stdout",
     "output_type": "stream",
     "text": [
      "['apple', 'a', 'ay', 'aten', 'at', 'am']\n"
     ]
    }
   ],
   "source": [
    "a = \"apple a day must be eaten at 5am\"\n",
    "\n",
    "result= re.findall(r'a[\\w]*',a)\n",
    "print(result)\n"
   ]
  },
  {
   "cell_type": "code",
   "execution_count": 22,
   "id": "120ae16c",
   "metadata": {},
   "outputs": [
    {
     "name": "stdout",
     "output_type": "stream",
     "text": [
      "['apple', 'a', 'at']\n"
     ]
    }
   ],
   "source": [
    "a = \"apple a day must be eaten at 5am\"\n",
    "\n",
    "result = re.findall(r'\\ba[\\w]*\\b',a)\n",
    "print(result)"
   ]
  },
  {
   "cell_type": "code",
   "execution_count": 25,
   "id": "3a27c409",
   "metadata": {},
   "outputs": [
    {
     "name": "stdout",
     "output_type": "stream",
     "text": [
      "['5am']\n"
     ]
    }
   ],
   "source": [
    "a = \"apple a day must be eaten at 5am\"\n",
    "\n",
    "result = re.findall(r'\\d[\\w]*',a)\n",
    "print(result)"
   ]
  },
  {
   "cell_type": "code",
   "execution_count": 28,
   "id": "99d10817",
   "metadata": {},
   "outputs": [
    {
     "name": "stdout",
     "output_type": "stream",
     "text": [
      "['three', 'seven', 'eight']\n"
     ]
    }
   ],
   "source": [
    "b = \"one two three four five six seven eight nine ten eleven\"\n",
    "\n",
    "result = re.findall(r'\\b\\w{5}\\b',b)\n",
    "print(result)"
   ]
  },
  {
   "cell_type": "code",
   "execution_count": 36,
   "id": "c9534fe2",
   "metadata": {},
   "outputs": [
    {
     "name": "stdout",
     "output_type": "stream",
     "text": [
      "['Python', 'frommm', 'months']\n"
     ]
    }
   ],
   "source": [
    "c = \"I am learning Python frommm 4 months\"\n",
    "result = re.findall(r'\\b\\w{6}\\b',c)\n",
    "print(result)"
   ]
  },
  {
   "cell_type": "code",
   "execution_count": 38,
   "id": "3e1c8842",
   "metadata": {},
   "outputs": [
    {
     "name": "stdout",
     "output_type": "stream",
     "text": [
      "learning\n"
     ]
    }
   ],
   "source": [
    "result = re.search(r'\\b\\w{6,}\\b',c)\n",
    "print(result.group())"
   ]
  },
  {
   "cell_type": "code",
   "execution_count": 44,
   "id": "efe6faf9",
   "metadata": {},
   "outputs": [
    {
     "name": "stdout",
     "output_type": "stream",
     "text": [
      "['threee']\n"
     ]
    }
   ],
   "source": [
    "d = \"one two threee\"\n",
    "\n",
    "result = re.findall(r't[\\w]*\\Z',d)\n",
    "print(result)"
   ]
  },
  {
   "cell_type": "code",
   "execution_count": 46,
   "id": "d0e3a0aa",
   "metadata": {},
   "outputs": [
    {
     "name": "stdout",
     "output_type": "stream",
     "text": [
      "['one']\n"
     ]
    }
   ],
   "source": [
    "d = \"one two threee\"\n",
    "\n",
    "result = re.findall(r'\\Ao[\\w]*',d)\n",
    "print(result)"
   ]
  },
  {
   "cell_type": "code",
   "execution_count": 52,
   "id": "ddf350ca",
   "metadata": {},
   "outputs": [
    {
     "name": "stdout",
     "output_type": "stream",
     "text": [
      "['ankit', 'animesh', 'akhil']\n"
     ]
    }
   ],
   "source": [
    "d = \"akhil ankit arundathi animesh sreekar\"\n",
    "\n",
    "result = re.findall(r'an[\\w]*',d) \n",
    "result1= re.findall(r'ak[\\w]*',d)\n",
    "print(result+result1)"
   ]
  },
  {
   "cell_type": "code",
   "execution_count": 54,
   "id": "cfd3d1a4",
   "metadata": {},
   "outputs": [
    {
     "name": "stdout",
     "output_type": "stream",
     "text": [
      "['20-08-1997', '03-04-1997', '23-01-1998']\n"
     ]
    }
   ],
   "source": [
    "e = \" Sreekar 24 20-08-1997 Praveen 25 03-04-1997 Thanooz 24 23-01-1998 Newyear 2021 1-01-2021\"\n",
    "\n",
    "result = re.findall(r'\\d{2}-\\d{2}-\\d{4}',e)\n",
    "print(result)\n",
    "\n"
   ]
  },
  {
   "cell_type": "code",
   "execution_count": 58,
   "id": "2e503f58",
   "metadata": {},
   "outputs": [
    {
     "name": "stdout",
     "output_type": "stream",
     "text": [
      "['8106374484', '9701116116', '8125284855']\n"
     ]
    }
   ],
   "source": [
    "f = \"Sreekar 8106374484 Praveen 9701116116 Thanooz 8125284855\"\n",
    "result = re.findall(r'\\d+',f)\n",
    "print(result)"
   ]
  },
  {
   "cell_type": "code",
   "execution_count": 61,
   "id": "cb08bb20",
   "metadata": {},
   "outputs": [
    {
     "name": "stdout",
     "output_type": "stream",
     "text": [
      "['Sreekar ', ' Praveen ', ' Thanooz ']\n"
     ]
    }
   ],
   "source": [
    "f = \"Sreekar 8106374484 Praveen 9701116116 Thanooz 8125284855\"\n",
    "result = re.findall(r'\\D+',f)\n",
    "print(result)"
   ]
  },
  {
   "cell_type": "code",
   "execution_count": 69,
   "id": "8ca840d1",
   "metadata": {},
   "outputs": [
    {
     "name": "stdout",
     "output_type": "stream",
     "text": [
      "string starts with He\n"
     ]
    }
   ],
   "source": [
    "g = 'Hello World'\n",
    "\n",
    "result = re.findall(r'^He',g)\n",
    "if result == ['He']:\n",
    "    print(\"string starts with He\")\n",
    "else:\n",
    "    print(\"not starts with He\")\n"
   ]
  },
  {
   "cell_type": "code",
   "execution_count": 73,
   "id": "a7a7f6fe",
   "metadata": {},
   "outputs": [
    {
     "name": "stdout",
     "output_type": "stream",
     "text": [
      "[]\n",
      "doesn't ends with World\n"
     ]
    }
   ],
   "source": [
    "result = re.findall(r'world$',g)\n",
    "print(result)\n",
    "if result==['World']:\n",
    "    print(\"ends with World\")\n",
    "else:\n",
    "    print(\"doesn't ends with World\")"
   ]
  },
  {
   "cell_type": "code",
   "execution_count": 74,
   "id": "5cb286f8",
   "metadata": {},
   "outputs": [
    {
     "name": "stdout",
     "output_type": "stream",
     "text": [
      "['Sreekar', 'Praveen', 'Thanooz']\n"
     ]
    }
   ],
   "source": [
    "h = \"Sreekar got 80 marks,Praveen got 85 marks, Thanooz got 95 marks\"\n",
    "\n",
    "result = re.findall(r'[A-Z][a-z]*',h)\n",
    "print(result)"
   ]
  },
  {
   "cell_type": "code",
   "execution_count": 79,
   "id": "984bddbc",
   "metadata": {},
   "outputs": [
    {
     "name": "stdout",
     "output_type": "stream",
     "text": [
      "['80', '85', '95']\n"
     ]
    }
   ],
   "source": [
    "result = re.findall(r'\\d+',h)\n",
    "print(result)"
   ]
  },
  {
   "cell_type": "code",
   "execution_count": 83,
   "id": "98534fab",
   "metadata": {},
   "outputs": [
    {
     "name": "stdout",
     "output_type": "stream",
     "text": [
      "['4am', '5pm']\n"
     ]
    }
   ],
   "source": [
    "i  = \"I have a meeting at 4am and 5pm IST\"\n",
    "\n",
    "result = re.findall(r'\\dam|\\dpm',i)\n",
    "print(result)"
   ]
  },
  {
   "cell_type": "code",
   "execution_count": 84,
   "id": "5689dde3",
   "metadata": {},
   "outputs": [
    {
     "name": "stdout",
     "output_type": "stream",
     "text": [
      "['sreekarreddy133@gmail.com', 'venkatashobha301@gmail.com', 'hemanthchandan4865@gmail.com']\n"
     ]
    }
   ],
   "source": [
    "j = \"sreekarreddy133@gmail.com venkatashobha301@gmail.com hemanthchandan4865@gmail.com\"\n",
    "\n",
    "result = re.findall(r'\\S+@\\S+',j)\n",
    "print(result)\n"
   ]
  },
  {
   "cell_type": "code",
   "execution_count": null,
   "id": "bd20f9a2",
   "metadata": {},
   "outputs": [],
   "source": []
  }
 ],
 "metadata": {
  "kernelspec": {
   "display_name": "Python 3 (ipykernel)",
   "language": "python",
   "name": "python3"
  },
  "language_info": {
   "codemirror_mode": {
    "name": "ipython",
    "version": 3
   },
   "file_extension": ".py",
   "mimetype": "text/x-python",
   "name": "python",
   "nbconvert_exporter": "python",
   "pygments_lexer": "ipython3",
   "version": "3.9.7"
  }
 },
 "nbformat": 4,
 "nbformat_minor": 5
}
