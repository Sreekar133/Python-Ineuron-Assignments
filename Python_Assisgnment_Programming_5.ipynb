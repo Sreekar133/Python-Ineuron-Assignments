{
 "cells": [
  {
   "cell_type": "code",
   "execution_count": 5,
   "id": "cc7ec8ce",
   "metadata": {},
   "outputs": [
    {
     "name": "stdout",
     "output_type": "stream",
     "text": [
      "enter the first number12\n",
      "enter the second number18\n",
      "LCM of 12 & 18 is 36\n"
     ]
    }
   ],
   "source": [
    "#Write a Python Program to Find LCM?\n",
    "import math\n",
    "a = int(input(\"enter the first number\"))\n",
    "b = int(input(\"enter the second number\"))\n",
    "\n",
    "c=math.lcm(a,b)\n",
    "print(\"LCM of\",a,\"&\",b,\"is\",c)\n",
    "\n"
   ]
  },
  {
   "cell_type": "code",
   "execution_count": 8,
   "id": "0a4f52ce",
   "metadata": {},
   "outputs": [
    {
     "name": "stdout",
     "output_type": "stream",
     "text": [
      "enter the first number12\n",
      "enter the second number18\n",
      "HCF of 12 & 18 is 6\n"
     ]
    }
   ],
   "source": [
    "#Write a Python Program to Find HCF?\n",
    "\n",
    "import math\n",
    "a = int(input(\"enter the first number\"))\n",
    "b = int(input(\"enter the second number\"))\n",
    "\n",
    "c=math.gcd(a,b)\n",
    "print(\"HCF of\",a,\"&\",b,\"is\",c)"
   ]
  },
  {
   "cell_type": "code",
   "execution_count": 7,
   "id": "8abac180",
   "metadata": {},
   "outputs": [
    {
     "name": "stdout",
     "output_type": "stream",
     "text": [
      "enter the decimal number8\n",
      "value of 8 when converted to binary is 3.0\n",
      "value of 8 when converted to Octal is 1.0\n",
      "value of 8 when converted to Octal is 1.3333333333333335\n"
     ]
    }
   ],
   "source": [
    "#Write a Python Program to Convert Decimal to Binary, Octal and Hexadecimal?\n",
    "\n",
    "import math\n",
    "a = int(input(\"enter the decimal number\"))\n",
    "\n",
    "b=math.log2(a)\n",
    "print(\"value of\",a,\"when converted to binary is\",b)\n",
    "\n",
    "c=math.log(8,a)\n",
    "print(\"value of\",a,\"when converted to Octal is\",c)\n",
    "\n",
    "d=math.log(16,a)\n",
    "print(\"value of\",a,\"when converted to HexaDecimal is\",d)"
   ]
  },
  {
   "cell_type": "code",
   "execution_count": 24,
   "id": "4a5c996a",
   "metadata": {},
   "outputs": [
    {
     "name": "stdout",
     "output_type": "stream",
     "text": [
      "please enter the characterp\n",
      "Ascii values of p is 112\n"
     ]
    }
   ],
   "source": [
    "#Write a Python Program To Find ASCII value of a character?\n",
    "\n",
    "\n",
    "char = input(\"please enter the character\")\n",
    "\n",
    "print(\"Ascii values of\", char , \"is\",ord(char))\n"
   ]
  },
  {
   "cell_type": "code",
   "execution_count": 33,
   "id": "3d71ebda",
   "metadata": {},
   "outputs": [
    {
     "name": "stdout",
     "output_type": "stream",
     "text": [
      "enter the first number5\n",
      "enter the second number9\n",
      "please enter the opeartion\n",
      "1:Addition\n",
      "2:Subtraction\n",
      "3:Multiplication\n",
      "4:Division\n",
      "enter choice between 1/2/3/46\n",
      "you have given invalid input\n"
     ]
    }
   ],
   "source": [
    "#Write a Python Program to Make a Simple Calculator with 4 basic mathematical operations?\n",
    "\n",
    "a = int(input(\"enter the first number\"))\n",
    "b = int(input(\"enter the second number\"))\n",
    "\n",
    "print(\"please enter the opeartion\")\n",
    "print(\"1:Addition\")\n",
    "print(\"2:Subtraction\")\n",
    "print(\"3:Multiplication\")\n",
    "print(\"4:Division\")\n",
    "\n",
    "choice = input(\"enter choice between 1/2/3/4\")\n",
    "\n",
    "if choice in ('1','2','3','4'):\n",
    "    if choice == '1':\n",
    "        print(\"sum of\",a,\"and\",b,\"is\",a+b)\n",
    "    elif choice == '2':\n",
    "        print(\"sub of\",a,\"and\",b,\"is\",a-b)\n",
    "    elif choice =='3':\n",
    "        print(\"mul of\",a, \"and\",b, \"is\",a*b)\n",
    "    elif choice =='4':\n",
    "        print(\"div of\",a, \"and\",b ,\"is\",a/b)\n",
    "else:\n",
    "    print(\"you have given invalid input\")\n"
   ]
  },
  {
   "cell_type": "code",
   "execution_count": null,
   "id": "ca0181f5",
   "metadata": {},
   "outputs": [],
   "source": []
  }
 ],
 "metadata": {
  "kernelspec": {
   "display_name": "Python 3 (ipykernel)",
   "language": "python",
   "name": "python3"
  },
  "language_info": {
   "codemirror_mode": {
    "name": "ipython",
    "version": 3
   },
   "file_extension": ".py",
   "mimetype": "text/x-python",
   "name": "python",
   "nbconvert_exporter": "python",
   "pygments_lexer": "ipython3",
   "version": "3.9.7"
  }
 },
 "nbformat": 4,
 "nbformat_minor": 5
}
