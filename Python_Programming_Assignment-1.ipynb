{
 "cells": [
  {
   "cell_type": "code",
   "execution_count": 3,
   "id": "2a565f91",
   "metadata": {},
   "outputs": [
    {
     "name": "stdout",
     "output_type": "stream",
     "text": [
      "Hello Python\n"
     ]
    }
   ],
   "source": [
    "#write a python program to print \"Hello Python\"\n",
    "\n",
    "print(\"Hello Python\")"
   ]
  },
  {
   "cell_type": "code",
   "execution_count": 4,
   "id": "f94ea61a",
   "metadata": {},
   "outputs": [
    {
     "name": "stdout",
     "output_type": "stream",
     "text": [
      "enter the first number8\n",
      "enter the second number4\n",
      "12\n",
      "2.0\n"
     ]
    }
   ],
   "source": [
    "#Write a Python program to do arithmetical operations addition and division?\n",
    "\n",
    "a = int(input(\"enter the first number\"))\n",
    "b = int(input(\"enter the second number\"))\n",
    "c=a+b\n",
    "d=a/b\n",
    "print(c)\n",
    "print(d)"
   ]
  },
  {
   "cell_type": "code",
   "execution_count": 5,
   "id": "ce1d5227",
   "metadata": {},
   "outputs": [
    {
     "name": "stdout",
     "output_type": "stream",
     "text": [
      "enter the base for the triangle4\n",
      "enter the height for the triangle4\n",
      "8.0\n"
     ]
    }
   ],
   "source": [
    "#write a python code to find area of triangle\n",
    "\n",
    "b = int(input(\"enter the base for the triangle\"))\n",
    "h = int(input(\"enter the height for the triangle\"))\n",
    "area = 1/2*(b*h)\n",
    "print(area)\n"
   ]
  },
  {
   "cell_type": "code",
   "execution_count": 12,
   "id": "af8e5617",
   "metadata": {},
   "outputs": [
    {
     "name": "stdout",
     "output_type": "stream",
     "text": [
      "enter the first number5\n",
      "enter the second number6\n",
      "6\n",
      "5\n"
     ]
    }
   ],
   "source": [
    "#write a python program to swap two numbers\n",
    "\n",
    "a = int(input(\"enter the first number\"))\n",
    "b = int(input(\"enter the second number\"))\n",
    "\n",
    "temp=a\n",
    "a=b\n",
    "b=temp\n",
    "print(a)\n",
    "print(b)\n"
   ]
  },
  {
   "cell_type": "code",
   "execution_count": 10,
   "id": "1d36ce09",
   "metadata": {},
   "outputs": [
    {
     "name": "stdout",
     "output_type": "stream",
     "text": [
      "40\n"
     ]
    }
   ],
   "source": [
    "#write a python program to generate a random number\n",
    "\n",
    "import random\n",
    "a=random.randint(0,50)\n",
    "print(a)\n",
    "     "
   ]
  },
  {
   "cell_type": "code",
   "execution_count": null,
   "id": "46fbf422",
   "metadata": {},
   "outputs": [],
   "source": []
  }
 ],
 "metadata": {
  "kernelspec": {
   "display_name": "Python 3 (ipykernel)",
   "language": "python",
   "name": "python3"
  },
  "language_info": {
   "codemirror_mode": {
    "name": "ipython",
    "version": 3
   },
   "file_extension": ".py",
   "mimetype": "text/x-python",
   "name": "python",
   "nbconvert_exporter": "python",
   "pygments_lexer": "ipython3",
   "version": "3.9.7"
  }
 },
 "nbformat": 4,
 "nbformat_minor": 5
}
