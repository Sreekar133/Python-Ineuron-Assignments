{
 "cells": [
  {
   "cell_type": "code",
   "execution_count": null,
   "id": "8719ab77",
   "metadata": {},
   "outputs": [],
   "source": [
    "1. What does an empty dictionary code look like?\n",
    "\n",
    "empty dictionary looks like {}"
   ]
  },
  {
   "cell_type": "code",
   "execution_count": null,
   "id": "54275c59",
   "metadata": {},
   "outputs": [],
   "source": [
    "2.What is the value of a dictionary value with the key 'foo' and the value 42?\n",
    "\n",
    "{\"foo\" : 42}"
   ]
  },
  {
   "cell_type": "code",
   "execution_count": null,
   "id": "3ae5842d",
   "metadata": {},
   "outputs": [],
   "source": [
    "3.What is the most significant distinction between a dictionary and a list?\n",
    "\n",
    "A list is an ordered sequence of objects, whereas dictionaries are unordered sets.\n",
    "\n",
    "lists are accesses by indexes whereas dictionaries are access with keys."
   ]
  },
  {
   "cell_type": "code",
   "execution_count": null,
   "id": "1a096901",
   "metadata": {},
   "outputs": [],
   "source": [
    "4.What happens if you try to access spam['foo'] if spam is {'bar': 100}?\n",
    "\n",
    "we will get value not found error as the key and value doesn't exists"
   ]
  },
  {
   "cell_type": "code",
   "execution_count": null,
   "id": "d76e0627",
   "metadata": {},
   "outputs": [],
   "source": [
    "5. If a dictionary is stored in spam, what is the difference between the expressions cat; in spam and\n",
    "cat in spam.keys()?\n",
    "\n",
    "There is no difference. The in operator checks whether a value exists as a key in the dictionary."
   ]
  },
  {
   "cell_type": "code",
   "execution_count": null,
   "id": "7f66bd35",
   "metadata": {},
   "outputs": [],
   "source": [
    "6.If a dictionary is stored in spam, what is the difference between the expressions cat in spam and\n",
    "cat in spam.values()?\n",
    "\n",
    "'cat' in spam checks whether there is a 'cat' key in the dictionary, \n",
    "\n",
    "'cat' in spam.values() checks whether there is a value 'cat' for one of the keys in spam\n"
   ]
  },
  {
   "cell_type": "code",
   "execution_count": 7,
   "id": "0208c7ba",
   "metadata": {},
   "outputs": [],
   "source": [
    "What is a shortcut for the following code?\n",
    "if 'color' not in spam:\n",
    "    spam['color';] =black;\n",
    "    \n",
    "we can write spam.setdefault('color','black')"
   ]
  },
  {
   "cell_type": "code",
   "execution_count": 8,
   "id": "1bd1570d",
   "metadata": {},
   "outputs": [],
   "source": [
    "How do you pretty print dictionary values using which module and function?\n",
    "\n",
    "pprint.pprint()"
   ]
  },
  {
   "cell_type": "code",
   "execution_count": null,
   "id": "d77ba50d",
   "metadata": {},
   "outputs": [],
   "source": []
  }
 ],
 "metadata": {
  "kernelspec": {
   "display_name": "Python 3 (ipykernel)",
   "language": "python",
   "name": "python3"
  },
  "language_info": {
   "codemirror_mode": {
    "name": "ipython",
    "version": 3
   },
   "file_extension": ".py",
   "mimetype": "text/x-python",
   "name": "python",
   "nbconvert_exporter": "python",
   "pygments_lexer": "ipython3",
   "version": "3.9.7"
  }
 },
 "nbformat": 4,
 "nbformat_minor": 5
}
