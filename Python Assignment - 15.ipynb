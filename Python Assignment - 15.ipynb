{
 "cells": [
  {
   "cell_type": "code",
   "execution_count": 11,
   "id": "c0c869fe",
   "metadata": {},
   "outputs": [
    {
     "name": "stdout",
     "output_type": "stream",
     "text": [
      "0\n",
      "35\n",
      "70\n",
      "105\n",
      "140\n",
      "175\n"
     ]
    }
   ],
   "source": [
    "# Please write a program using generator to print the numbers which can be divisible by 5 and7 between 0 and n in comma separated form while n is input by console.\n",
    "\n",
    "def generator(n):\n",
    "    for i in range(n):\n",
    "        if i % 7 == 0 and i % 5  == 0:\n",
    "            yield i\n",
    "            \n",
    "b=generator(200)\n",
    "for i in b:\n",
    "    print(i)"
   ]
  },
  {
   "cell_type": "code",
   "execution_count": 40,
   "id": "740e1f50",
   "metadata": {},
   "outputs": [
    {
     "name": "stdout",
     "output_type": "stream",
     "text": [
      "0 2 4 6 8 10 12 14 16 18 20 22 24 26 28 30 32 34 36 38 40 42 44 46 48 50 52 54 56 58 60 62 64 66 68 70 72 74 76 78 80 82 84 86 88 90 92 94 96 98 "
     ]
    }
   ],
   "source": [
    "#Please write a program using generator to print the even numbers between 0 and n in comma separated form while n is input by console.\n",
    "\n",
    "def generator1(n):\n",
    "    for i in range(n):\n",
    "        if i%2==0:\n",
    "            yield i\n",
    "            \n",
    "c= generator1(100)\n",
    "for i in c:\n",
    "    print(i , end = \" \")"
   ]
  },
  {
   "cell_type": "code",
   "execution_count": null,
   "id": "fb7c35b4",
   "metadata": {},
   "outputs": [],
   "source": [
    "#Please write a program using list comprehension to print the Fibonacci Sequence in comma separated form with a given n input by console."
   ]
  },
  {
   "cell_type": "code",
   "execution_count": null,
   "id": "53cfb835",
   "metadata": {},
   "outputs": [],
   "source": []
  },
  {
   "cell_type": "code",
   "execution_count": 37,
   "id": "d69d82cd",
   "metadata": {},
   "outputs": [],
   "source": [
    "#Assuming that we have some email addresses in the username@companyname.com format,please write program to print the user name of a given email address. Both user names andcompany names are composed of letters only.\n",
    "\n",
    "def emailaddress():\n",
    "    n = input(\"please enter the email address\")\n",
    "    for i in n:\n",
    "        if i == \"@\":\n",
    "            break\n",
    "        print(i,end=\"\")"
   ]
  },
  {
   "cell_type": "code",
   "execution_count": 38,
   "id": "e795c979",
   "metadata": {},
   "outputs": [
    {
     "name": "stdout",
     "output_type": "stream",
     "text": [
      "please enter the email addressjohn@gmail.com\n",
      "john"
     ]
    }
   ],
   "source": [
    "emailaddress()"
   ]
  },
  {
   "cell_type": "code",
   "execution_count": 35,
   "id": "43588d6e",
   "metadata": {},
   "outputs": [
    {
     "name": "stdout",
     "output_type": "stream",
     "text": [
      "0\n",
      "16\n"
     ]
    }
   ],
   "source": [
    "#Define a class named Shape and its subclass Square. The Square class has an init function which takes a length as argument. Both classes have a area function which can print the areaof the shape where Shape area is 0 by default.\n",
    "\n",
    "class Shape:\n",
    "    \n",
    "    def area(self):\n",
    "        return 0\n",
    "    \n",
    "class square(Shape):\n",
    "    \n",
    "    def __init__(self,l):\n",
    "        self.l=l\n",
    "        \n",
    "    def area(self):\n",
    "        return self.l*self.l\n",
    "    \n",
    "Area = Shape()\n",
    "print(Area.area())\n",
    "Area = square(4)\n",
    "print(Area.area())"
   ]
  },
  {
   "cell_type": "code",
   "execution_count": null,
   "id": "73df9b6c",
   "metadata": {},
   "outputs": [],
   "source": []
  }
 ],
 "metadata": {
  "kernelspec": {
   "display_name": "Python 3 (ipykernel)",
   "language": "python",
   "name": "python3"
  },
  "language_info": {
   "codemirror_mode": {
    "name": "ipython",
    "version": 3
   },
   "file_extension": ".py",
   "mimetype": "text/x-python",
   "name": "python",
   "nbconvert_exporter": "python",
   "pygments_lexer": "ipython3",
   "version": "3.9.7"
  }
 },
 "nbformat": 4,
 "nbformat_minor": 5
}
