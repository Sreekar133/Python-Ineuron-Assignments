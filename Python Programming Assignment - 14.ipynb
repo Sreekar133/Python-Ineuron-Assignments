{
 "cells": [
  {
   "cell_type": "code",
   "execution_count": 14,
   "id": "5c3e82c2",
   "metadata": {},
   "outputs": [
    {
     "name": "stdout",
     "output_type": "stream",
     "text": [
      "0  7  14  21  28  35  42  49  56  "
     ]
    }
   ],
   "source": [
    "# Define a class with a generator which can iterate the numbers, which are divisible by 7, between a given range 0 and n.\n",
    "\n",
    "class test1:\n",
    "    \n",
    "    def gen7(self,n):\n",
    "        for i in range(n):\n",
    "            if i%7==0:\n",
    "                yield i\n",
    "            \n",
    "b=test1()\n",
    "c=b.gen7(57)\n",
    "for j in c:\n",
    "    print(j , end =\"  \")"
   ]
  },
  {
   "cell_type": "code",
   "execution_count": 22,
   "id": "f24a28ea",
   "metadata": {},
   "outputs": [
    {
     "name": "stdout",
     "output_type": "stream",
     "text": [
      "2 2\n",
      "2 2\n",
      "3 1\n",
      "3? 1\n",
      "New 1\n",
      "Python 5\n",
      "Python 5\n",
      "Python 5\n",
      "Python 5\n",
      "Python 5\n",
      "Read 1\n",
      "and 1\n",
      "between 1\n",
      "choosing 1\n",
      "or 2\n",
      "or 2\n",
      "to 1\n"
     ]
    }
   ],
   "source": [
    "string = \"New to Python or choosing between Python 2 and Python 3? Read Python 2 or Python 3\"\n",
    "\n",
    "string = string.split(\" \")\n",
    "\n",
    "lst=[]\n",
    "string.sort()\n",
    "for i in string:\n",
    "    count =string.count(i)\n",
    "    print(i,count)\n",
    "\n",
    "  "
   ]
  },
  {
   "cell_type": "code",
   "execution_count": null,
   "id": "b362a4ae",
   "metadata": {},
   "outputs": [],
   "source": [
    "Define a class Person and its two child classes: Male and Female. All classes have a\n",
    "method getGender which can print Male for Male class and Female for Female\n",
    "class."
   ]
  },
  {
   "cell_type": "code",
   "execution_count": 10,
   "id": "1e62eb05",
   "metadata": {},
   "outputs": [],
   "source": [
    "a = (1,2,3,43,45,4)"
   ]
  },
  {
   "cell_type": "code",
   "execution_count": 12,
   "id": "e3ed907f",
   "metadata": {},
   "outputs": [
    {
     "data": {
      "text/plain": [
       "tuple"
      ]
     },
     "execution_count": 12,
     "metadata": {},
     "output_type": "execute_result"
    }
   ],
   "source": [
    "type(a)"
   ]
  },
  {
   "cell_type": "code",
   "execution_count": 25,
   "id": "9abc095a",
   "metadata": {},
   "outputs": [
    {
     "name": "stdout",
     "output_type": "stream",
     "text": [
      "New to Python or choosing between Python 2 and Python 3? Read Python 2 or Python 3\n",
      "['2', '3', '3?', 'New', 'Python', 'Read', 'and', 'between', 'choosing', 'or', 'to']\n",
      "2:2\n",
      "3:1\n",
      "3?:1\n",
      "New:1\n",
      "Python:5\n",
      "Read:1\n",
      "and:1\n",
      "between:1\n",
      "choosing:1\n",
      "or:2\n",
      "to:1\n"
     ]
    }
   ],
   "source": [
    "ss = input().split()\n",
    "word = sorted(set(ss))  \n",
    "print(word)# split words are stored and sorted as a set\n",
    "\n",
    "for i in word:\n",
    "    print(\"{0}:{1}\".format(i,ss.count(i)))"
   ]
  },
  {
   "cell_type": "code",
   "execution_count": null,
   "id": "15e18dc4",
   "metadata": {},
   "outputs": [],
   "source": []
  },
  {
   "cell_type": "code",
   "execution_count": 48,
   "id": "76dbd5da",
   "metadata": {},
   "outputs": [
    {
     "name": "stdout",
     "output_type": "stream",
     "text": [
      "male\n",
      "female\n"
     ]
    }
   ],
   "source": [
    "class Person:\n",
    "    \n",
    "    def getgender(self):\n",
    "        return \"unknown\"\n",
    "    \n",
    "class Male(Person):\n",
    "     def getgender(self):\n",
    "            return \"male\"\n",
    "            \n",
    "class Female(Person):\n",
    "    def getgender(self):\n",
    "        return \"female\"\n",
    "    \n",
    "    \n",
    "    \n",
    "Sreekar = Male()\n",
    "Likitha = Female()\n",
    "\n",
    "print(Sreekar.getgender())\n",
    "print(Likitha.getgender())"
   ]
  },
  {
   "cell_type": "code",
   "execution_count": 51,
   "id": "0cdb48b8",
   "metadata": {},
   "outputs": [
    {
     "name": "stdout",
     "output_type": "stream",
     "text": [
      "I Play Hockey\n",
      "I Play Football\n",
      "I Love Hockey\n",
      "I Love Football\n",
      "You Play Hockey\n",
      "You Play Football\n",
      "You Love Hockey\n",
      "You Love Football\n"
     ]
    }
   ],
   "source": [
    "# Please write a program to generate all sentences where subject is in [I,You] and\n",
    "# verb is in [Play, Love] and the object is in[Hockey,Football].\n",
    "\n",
    "subject = [\"I\",\"You\"]\n",
    "verb = [\"Play\" , \"Love\"]\n",
    "object1 = [\"Hockey\",\"Football\"]\n",
    "\n",
    "\n",
    "for i in range(len(subject)):\n",
    "    for j in range(len(verb)):\n",
    "        for k in range(len(object1)):\n",
    "            print(subject[i],verb[j],object1[k])\n",
    "            \n"
   ]
  },
  {
   "cell_type": "code",
   "execution_count": 55,
   "id": "01b04bde",
   "metadata": {},
   "outputs": [
    {
     "name": "stdout",
     "output_type": "stream",
     "text": [
      "b'x\\x9c\\xcbH\\xcd\\xc9\\xc9W(\\xcf/\\xcaIQ\\xcc\\x00\\xb1\\x91\\x98\\n\\x98l\\x00\\xb2\\xe9\\x11\\xd5'\n",
      "b'hello world!helloworld!hello world!hello world!'\n"
     ]
    }
   ],
   "source": [
    "#Please write a program to compress and decompress the string hello world!helloworld!hello world!hello world!.\n",
    "\n",
    "import zlib\n",
    "s = \"hello world!helloworld!hello world!hello world!\".encode()\n",
    "\n",
    "compress= zlib.compress(s)\n",
    "print(compress)\n",
    "\n",
    "print(zlib.decompress(compress))"
   ]
  },
  {
   "cell_type": "code",
   "execution_count": null,
   "id": "6e78c789",
   "metadata": {},
   "outputs": [],
   "source": []
  }
 ],
 "metadata": {
  "kernelspec": {
   "display_name": "Python 3 (ipykernel)",
   "language": "python",
   "name": "python3"
  },
  "language_info": {
   "codemirror_mode": {
    "name": "ipython",
    "version": 3
   },
   "file_extension": ".py",
   "mimetype": "text/x-python",
   "name": "python",
   "nbconvert_exporter": "python",
   "pygments_lexer": "ipython3",
   "version": "3.9.7"
  }
 },
 "nbformat": 4,
 "nbformat_minor": 5
}
