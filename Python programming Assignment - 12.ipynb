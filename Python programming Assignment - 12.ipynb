{
 "cells": [
  {
   "cell_type": "code",
   "execution_count": 33,
   "id": "d2ee475f",
   "metadata": {},
   "outputs": [
    {
     "name": "stdout",
     "output_type": "stream",
     "text": [
      "{1, 2, 3, 4, 5, 6, 7, 8, 9, 10, 11, 'ineuron'}\n"
     ]
    }
   ],
   "source": [
    "#write a python program to  extract Unique values dictionary values?\n",
    "a={ \"a\" : [1,2,3,4,5] , \"b\" : [4,5,6,7,8,9,10] , \"c\" : \"ineuron\" , \"d\" : \"ineuron\", \"e\" : 11} \n",
    "lst=[]\n",
    "for i in a.values():\n",
    "    if type(i) == int or type(i) == str:\n",
    "            lst.append(i)\n",
    "    elif type(i) == tuple or type(i) == list:\n",
    "        for j in i:\n",
    "            lst.append(j)\n",
    "\n",
    "b = set(lst)\n",
    "print(b)\n"
   ]
  },
  {
   "cell_type": "code",
   "execution_count": 15,
   "id": "a0ce4f68",
   "metadata": {},
   "outputs": [
    {
     "name": "stdout",
     "output_type": "stream",
     "text": [
      "[11, 'ineuron', 'ineuron', 1, 2, 3, 4, 5, 4, 5, 6, 7, 8, 9, 10]\n",
      "sum is 75\n"
     ]
    }
   ],
   "source": [
    "#write a python program to find sum of all items in a dictionary?\n",
    "a={ \"a\" : [1,2,3,4,5] , \"b\" : [4,5,6,7,8,9,10] , \"c\" : \"ineuron\" , \"d\" : \"ineuron\", \"e\" : 11}\n",
    "lst=[]\n",
    "integer=[]\n",
    "string = []\n",
    "\n",
    "for i in a.values():\n",
    "    if type(i) == int:\n",
    "        integer.append(i)\n",
    "        \n",
    "    elif type(i) == str:\n",
    "        string.append(i)\n",
    "        \n",
    "    elif type(i) == list or type(i) == tuple:\n",
    "        for j in i:\n",
    "            lst.append(j)\n",
    "    \n",
    "            \n",
    "sum_list = integer+string+lst\n",
    "print(sum_list)\n",
    "count =0\n",
    "for i in sum_list:\n",
    "    if type(i) == int:\n",
    "        count = count+i\n",
    "print(f\"sum is {count}\")\n",
    "\n",
    "\n",
    "\n",
    "\n",
    "\n",
    "\n",
    "        \n",
    "        \n",
    "\n",
    "\n",
    "\n"
   ]
  },
  {
   "cell_type": "code",
   "execution_count": 25,
   "id": "68749955",
   "metadata": {},
   "outputs": [
    {
     "name": "stdout",
     "output_type": "stream",
     "text": [
      "please give the dict1{\"a\" : \"sreekar\"}\n",
      "please give the dict2{\"b\" : \"reddy\"}\n",
      "{'a': 'sreekar', 'b': 'reddy'}\n"
     ]
    }
   ],
   "source": [
    "dict1=eval(input(\"please give the dict1\"))\n",
    "dict2=eval(input(\"please give the dict2\"))\n",
    "\n",
    "dict1.update(dict2)\n",
    "\n",
    "print(dict1)"
   ]
  },
  {
   "cell_type": "code",
   "execution_count": 21,
   "id": "ba1d9f42",
   "metadata": {},
   "outputs": [],
   "source": [
    "# write a python program to convert key values list to flat dictionary\n"
   ]
  },
  {
   "cell_type": "code",
   "execution_count": 2,
   "id": "a0a3f05a",
   "metadata": {},
   "outputs": [
    {
     "name": "stdout",
     "output_type": "stream",
     "text": [
      "please provide the dictionaries{\"a\" : [1,2,3,4,5,6,7] , \"b\" : [\"one\",\"two\",\"three\",\"four\" , \"five\" , \"six\" , \"seven\"]}\n",
      "The result is {1: 'one', 2: 'two', 3: 'three', 4: 'four', 5: 'five', 6: 'six', 7: 'seven'}\n"
     ]
    }
   ],
   "source": [
    "#write a python program to convert key values list to flat dictionary\n",
    "\n",
    "#dict1={\"a\" : [1,2,3,4,5,6,7] , \"b\" : [\"one\",\"two\",\"three\",\"four\" , \"five\" , \"six\" , \"seven\"]}\n",
    "\n",
    "dict1 = eval(input(\"please provide the dictionaries\"))\n",
    "output = dict(zip(dict1[\"a\"] , dict1[\"b\"]))\n",
    "print(f\"The result is {output}\")"
   ]
  },
  {
   "cell_type": "code",
   "execution_count": 6,
   "id": "1a5c0b88",
   "metadata": {},
   "outputs": [
    {
     "name": "stdout",
     "output_type": "stream",
     "text": [
      "result is : OrderedDict([('D', '400'), ('A', '100'), ('C', '300'), ('B', '200')])\n"
     ]
    }
   ],
   "source": [
    "#write a python program to insert at the begginning in ordered dict?\n",
    "\n",
    "from collections import OrderedDict\n",
    "\n",
    "dict1 = OrderedDict([('A','100'),('C' , '300') , ('B' , '200')])\n",
    "\n",
    "insert1 = OrderedDict([('D','400')])\n",
    "\n",
    "final = OrderedDict(list(insert1.items())+list(dict1.items()))\n",
    "\n",
    "print(\"result is :\",final )\n",
    "\n"
   ]
  },
  {
   "cell_type": "code",
   "execution_count": 8,
   "id": "80392a5e",
   "metadata": {},
   "outputs": [
    {
     "data": {
      "text/plain": [
       "OrderedDict([('a', 'sreekar'), ('c', 12345), ('b', 'reddy')])"
      ]
     },
     "execution_count": 8,
     "metadata": {},
     "output_type": "execute_result"
    }
   ],
   "source": [
    "# write a python program to check order of charactere in string using Ordered dict?\n",
    "\n",
    "from collections import OrderedDict\n",
    "\n",
    "c={'a': 'sreekar', 'c':12345 , 'b' : \"reddy\"}                  \n",
    "\n",
    "OrderedDict(c)"
   ]
  },
  {
   "cell_type": "code",
   "execution_count": 15,
   "id": "9b7f093d",
   "metadata": {},
   "outputs": [
    {
     "data": {
      "text/plain": [
       "True"
      ]
     },
     "execution_count": 15,
     "metadata": {},
     "output_type": "execute_result"
    }
   ],
   "source": [
    "#write a python program to check order of characrtere in string using Ordered Dict?\n",
    "from collections import OrderedDict\n",
    "def checkorder(string,pattern):\n",
    "    dic = OrderedDict.fromkeys(string)\n",
    "    ptr = 0\n",
    "    for key,value in dic.items():\n",
    "        if (key == pattern[ptr]):\n",
    "            ptr = ptr+1\n",
    "            \n",
    "        if (ptr == (len(pattern))):\n",
    "            return True\n",
    "    return False\n",
    "\n",
    "\n",
    "checkorder('welcome','wel')"
   ]
  },
  {
   "cell_type": "code",
   "execution_count": 18,
   "id": "32c379c8",
   "metadata": {},
   "outputs": [
    {
     "name": "stdout",
     "output_type": "stream",
     "text": [
      "Tech neuron\n",
      "courseathon\n",
      "hello\n",
      "ineuron\n",
      "kids neuron\n"
     ]
    }
   ],
   "source": [
    "#write a python rpogram to sort Python Dictionaries by key or value?\n",
    "\n",
    "a={}\n",
    "\n",
    "a['a'] = \"hello\"\n",
    "a[\"b\"] = \"ineuron\"\n",
    "a[\"c\"] = \"Tech neuron\"\n",
    "a[\"d\"] = \"kids neuron\"\n",
    "a[\"e\"] = \"courseathon\"\n",
    "\n",
    "for i in sorted (a.values()):\n",
    "    print(i)"
   ]
  },
  {
   "cell_type": "code",
   "execution_count": null,
   "id": "e104be57",
   "metadata": {},
   "outputs": [],
   "source": []
  }
 ],
 "metadata": {
  "kernelspec": {
   "display_name": "Python 3 (ipykernel)",
   "language": "python",
   "name": "python3"
  },
  "language_info": {
   "codemirror_mode": {
    "name": "ipython",
    "version": 3
   },
   "file_extension": ".py",
   "mimetype": "text/x-python",
   "name": "python",
   "nbconvert_exporter": "python",
   "pygments_lexer": "ipython3",
   "version": "3.9.7"
  }
 },
 "nbformat": 4,
 "nbformat_minor": 5
}
