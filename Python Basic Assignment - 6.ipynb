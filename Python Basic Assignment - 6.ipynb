{
 "cells": [
  {
   "cell_type": "markdown",
   "id": "78bb0664",
   "metadata": {},
   "source": [
    "1.What are escape characters, and how do you use them?\n",
    "\n",
    "To insert characters that are illegal in a string, use an escape character. An escape character is a backslash \\ followed by the character you want to insert.\n",
    "\n",
    "Eg : 'I can\\'t eat this all at a time'"
   ]
  },
  {
   "cell_type": "code",
   "execution_count": null,
   "id": "16ed2321",
   "metadata": {},
   "outputs": [],
   "source": []
  },
  {
   "cell_type": "code",
   "execution_count": 3,
   "id": "d943303e",
   "metadata": {},
   "outputs": [],
   "source": [
    "2. What do the escape characters n and t stand for?\n",
    "\n",
    "\\n stands for new line and \\t stands for 4 spaces"
   ]
  },
  {
   "cell_type": "code",
   "execution_count": null,
   "id": "7ac53eed",
   "metadata": {},
   "outputs": [],
   "source": [
    "3.What is the way to include backslash characters in a string?\n",
    "\n",
    "A. we need to give 2 backslash in order include backslash inside a string"
   ]
  },
  {
   "cell_type": "markdown",
   "id": "03b9bee4",
   "metadata": {},
   "source": [
    "4.The string \"Howl's Moving Castle\" is a correct value. Why isn't the single quote character in the\n",
    "word Howl's not escaped a problem?\n",
    "\n",
    "Since we enclosed with double quotes, Howl's has not given any kind of error"
   ]
  },
  {
   "cell_type": "markdown",
   "id": "a5c0e123",
   "metadata": {},
   "source": [
    "How do you write a string of newlines if you don&#39;t want to use the n character?\n",
    "\n",
    "we will use a split function and use for loop to iterate over a list.\n",
    "\n",
    "a = \"hello world\"\n",
    "\n",
    "a = a.split(\" \")\n",
    "for i in a:\n",
    "    print(i)"
   ]
  },
  {
   "cell_type": "markdown",
   "id": "23153c73",
   "metadata": {},
   "source": [
    "#What are the values of the given expressions?\n",
    "'Hello World'[1] = 'e'\n",
    "'Hello World'[0:5] = \"Hello\"\n",
    "'Hello World'[:5] = \"Hello\"\n",
    "'Hello World'[3:] = \"lo World\"\n",
    "\n",
    "\n",
    " "
   ]
  },
  {
   "cell_type": "markdown",
   "id": "a4532261",
   "metadata": {},
   "source": [
    "What are the values of the following expressions?\n",
    "'Hello'.upper() = \"HELLO\"\n",
    "'Hello'.upper().isupper() = True\n",
    "'Hello'.upper().islower() = False"
   ]
  },
  {
   "cell_type": "markdown",
   "id": "0fe495c7",
   "metadata": {},
   "source": [
    " What are the values of the following expressions?\n",
    "'Remember, remember, the fifth of July.'.split() = ['Remember,', 'remember,', 'the', 'fifth', 'of', 'July.']\n",
    "'-'.join('There can only one'.split()) = 'There-can-only-one'"
   ]
  },
  {
   "cell_type": "markdown",
   "id": "cc9c523a",
   "metadata": {},
   "source": [
    "What are the methods for right-justifying, left-justifying, and centering a string?\n",
    "\n",
    "The methods for right-justifying, left-justifying, and centering a string:\n",
    "a.center(\"hello world)\n",
    "a.ljust(\"hello world)\n",
    "a.rjust(\"hello world)\n",
    "    "
   ]
  },
  {
   "cell_type": "markdown",
   "id": "652fd56c",
   "metadata": {},
   "source": [
    "What is the best way to remove whitespace characters from the start or end?\n",
    "\n",
    "we can use strip function and iterate over for loop if we have spaces in middle\n",
    "\n",
    "Eg : \n",
    "a = \"         hello   world        \"\n"
   ]
  },
  {
   "cell_type": "markdown",
   "id": "e1bafaae",
   "metadata": {},
   "source": [
    "a = \"         hello   world        \"\n",
    "b=a.strip(\" \")\n",
    "\n",
    "for i in b:\n",
    "    if i == \" \":\n",
    "        continue\n",
    "    print(i , end=\"\")"
   ]
  },
  {
   "cell_type": "code",
   "execution_count": null,
   "id": "1747d427",
   "metadata": {},
   "outputs": [],
   "source": []
  }
 ],
 "metadata": {
  "kernelspec": {
   "display_name": "Python 3 (ipykernel)",
   "language": "python",
   "name": "python3"
  },
  "language_info": {
   "codemirror_mode": {
    "name": "ipython",
    "version": 3
   },
   "file_extension": ".py",
   "mimetype": "text/x-python",
   "name": "python",
   "nbconvert_exporter": "python",
   "pygments_lexer": "ipython3",
   "version": "3.9.7"
  }
 },
 "nbformat": 4,
 "nbformat_minor": 5
}
