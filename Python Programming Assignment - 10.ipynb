{
 "cells": [
  {
   "cell_type": "code",
   "execution_count": 4,
   "id": "a1f13dfa",
   "metadata": {},
   "outputs": [
    {
     "name": "stdout",
     "output_type": "stream",
     "text": [
      "15\n"
     ]
    }
   ],
   "source": [
    "#Write a Python program to find sum of elements in list?\n",
    "\n",
    "lst = [1,2,3,4,5]\n",
    "sum=0\n",
    "for i in lst:\n",
    "    sum=sum+i\n",
    "print(sum)"
   ]
  },
  {
   "cell_type": "code",
   "execution_count": 5,
   "id": "bd7bd352",
   "metadata": {},
   "outputs": [
    {
     "name": "stdout",
     "output_type": "stream",
     "text": [
      "120\n"
     ]
    }
   ],
   "source": [
    "#Write a Python program to Multiply all numbers in the list?\n",
    "\n",
    "lst = [1,2,3,4,5]\n",
    "mul=1\n",
    "for i in lst:\n",
    "    mul=mul*i\n",
    "print(mul)"
   ]
  },
  {
   "cell_type": "code",
   "execution_count": 16,
   "id": "1995e872",
   "metadata": {},
   "outputs": [
    {
     "name": "stdout",
     "output_type": "stream",
     "text": [
      "-2\n"
     ]
    }
   ],
   "source": [
    "#Write a Python program to find smallest number in a list?\n",
    "\n",
    "l = [-1,-2,12,4,16,1,9,11,15,16]\n",
    "lst=[]\n",
    "\n",
    "for i in l:\n",
    "    if i > 0 or i<0:\n",
    "        lst.append(i)\n",
    "        lst.sort()\n",
    "print(lst[0])\n",
    "        "
   ]
  },
  {
   "cell_type": "code",
   "execution_count": 18,
   "id": "c9adf057",
   "metadata": {},
   "outputs": [
    {
     "name": "stdout",
     "output_type": "stream",
     "text": [
      "19\n"
     ]
    }
   ],
   "source": [
    "#Write a Python program to find largest number in a list?\n",
    "\n",
    "l = [-1,-2,12,4,16,1,19,11,15,16]\n",
    "\n",
    "lst=[]\n",
    "\n",
    "for i in l:\n",
    "    if i > 0 or i < 0:\n",
    "        lst.append(i)\n",
    "        lst.sort(reverse=True)\n",
    "print(lst[0])"
   ]
  },
  {
   "cell_type": "code",
   "execution_count": 9,
   "id": "ce2208f1",
   "metadata": {},
   "outputs": [
    {
     "name": "stdout",
     "output_type": "stream",
     "text": [
      "16\n"
     ]
    }
   ],
   "source": [
    "#Write a Python program to find second largest number in a list?\n",
    "l =  [-1,-2,12,4,16,1,19,11,15,16]\n",
    "\n",
    "lst=[]\n",
    "\n",
    "for i in l:\n",
    "    if i > 0 or i < 0:\n",
    "        lst.append(i)\n",
    "        lst.sort(reverse=True)\n",
    "print(lst[1])"
   ]
  },
  {
   "cell_type": "code",
   "execution_count": 8,
   "id": "2fc6641d",
   "metadata": {},
   "outputs": [
    {
     "name": "stdout",
     "output_type": "stream",
     "text": [
      "[19, 16]\n"
     ]
    }
   ],
   "source": [
    "#Write a Python program to find N largest elements from a list?\n",
    "l =  [-1,-2,12,4,16,1,19,11,15,16]\n",
    "N=2\n",
    "final_lst=[]\n",
    "for i in range(N):\n",
    "    max1=0\n",
    "    for j in range(len(l)):\n",
    "        if l[j] > max1:\n",
    "            max1 = l[j]\n",
    "            \n",
    "    l.remove(max1)\n",
    "    final_lst.append(max1)\n",
    "print(final_lst)\n"
   ]
  },
  {
   "cell_type": "code",
   "execution_count": 10,
   "id": "015df53c",
   "metadata": {},
   "outputs": [
    {
     "name": "stdout",
     "output_type": "stream",
     "text": [
      "[2, 4, 6, 8, 10, 12, 14]\n"
     ]
    }
   ],
   "source": [
    "#Write a Python program to print even numbers in a list?\n",
    "\n",
    "l = [1,2,3,4,5,6,7,8,9,10,11,12,13,14]\n",
    "lst=[]\n",
    "for i in l:\n",
    "    if i % 2==0:\n",
    "        lst.append(i)\n",
    "print(lst)\n",
    "    "
   ]
  },
  {
   "cell_type": "code",
   "execution_count": 12,
   "id": "25d965aa",
   "metadata": {},
   "outputs": [
    {
     "name": "stdout",
     "output_type": "stream",
     "text": [
      "[1, 3, 5, 7, 9, 11, 13]\n"
     ]
    }
   ],
   "source": [
    "#Write a Python program to print odd numbers in a List?\n",
    "\n",
    "l = [1,2,3,4,5,6,7,8,9,10,11,12,13,14]\n",
    "\n",
    "lst = []\n",
    "\n",
    "for i in l:\n",
    "    if i%2!=0:\n",
    "        lst.append(i)\n",
    "print(lst)"
   ]
  },
  {
   "cell_type": "code",
   "execution_count": 22,
   "id": "116ccf5d",
   "metadata": {},
   "outputs": [
    {
     "name": "stdout",
     "output_type": "stream",
     "text": [
      "[1, 2, 3, 4, 5, 5, 'sreekar', 'python', {'a': 'FSDS'}]\n"
     ]
    }
   ],
   "source": [
    "#Write a Python program to Remove empty List from List?\n",
    "lst = [1,2,3,4,5,5,\"sreekar\",\"python\",[],{\"a\":\"FSDS\"},[],[],[]]\n",
    "lst1=[]\n",
    "for i in lst:\n",
    "    if i == []:\n",
    "        continue\n",
    "    else:\n",
    "        lst1.append(i)\n",
    "print(lst1)\n",
    "        \n",
    "        "
   ]
  },
  {
   "cell_type": "code",
   "execution_count": 7,
   "id": "c6c3254f",
   "metadata": {},
   "outputs": [
    {
     "name": "stdout",
     "output_type": "stream",
     "text": [
      "cloning of x is [0, 99, 2, 3, 4, 5, 6, 7, 8]\n",
      "cloning of y is [0, 1, 2, 3, 4, 5, 6, 7, 8]\n",
      "copy of x1 is [0, 1, 'copy', 3, 4, 5, 6, 7, 8]\n",
      "copy of y1 is [0, 1, 2, 3, 4, 5, 6, 7, 8]\n"
     ]
    }
   ],
   "source": [
    "#Write a Python program to Cloning or Copying a list?\n",
    "\n",
    "#cloning\n",
    "x = list(range(9))\n",
    "\n",
    "y = x[:]\n",
    "\n",
    "x[1]=99\n",
    "print(\"cloning of x is\",x)\n",
    "print(\"cloning of y is\",y)\n",
    "\n",
    "#copying\n",
    "x1 = list(range(9))\n",
    "\n",
    "y1 = x1.copy()\n",
    "\n",
    "x1[2] = \"copy\"\n",
    "\n",
    "print(\"copy of x1 is\",x1)\n",
    "print(\"copy of y1 is\",y1)\n",
    "\n"
   ]
  },
  {
   "cell_type": "code",
   "execution_count": 16,
   "id": "eb535a3b",
   "metadata": {},
   "outputs": [
    {
     "name": "stdout",
     "output_type": "stream",
     "text": [
      "enter the length of the list10\n",
      "please enter the list1\n",
      "please enter the list2\n",
      "please enter the list3\n",
      "please enter the list4\n",
      "please enter the list5\n",
      "please enter the list6\n",
      "please enter the list1\n",
      "please enter the list1\n",
      "please enter the list2\n",
      "please enter the list2\n",
      "enter the numbers that needs to be searched1\n",
      "no of occurences are of 1 is 3\n"
     ]
    }
   ],
   "source": [
    "#Write a Python program to Count occurrences of an element in a list?\n",
    "\n",
    "n = int(input(\"enter the length of the list\"))\n",
    "lst=[]\n",
    "for i in range(n):\n",
    "    l=int(input(\"please enter the list\"))\n",
    "    lst.append(l)\n",
    "    \n",
    "search = int(input(\"enter the numbers that needs to be searched\"))\n",
    "z=lst.count(search)\n",
    "print(\"no of occurences are of\",search,\"is\",z)\n",
    "\n",
    "    \n",
    "\n"
   ]
  },
  {
   "cell_type": "code",
   "execution_count": null,
   "id": "b1c1ab78",
   "metadata": {},
   "outputs": [],
   "source": [
    "eval()"
   ]
  }
 ],
 "metadata": {
  "kernelspec": {
   "display_name": "Python 3 (ipykernel)",
   "language": "python",
   "name": "python3"
  },
  "language_info": {
   "codemirror_mode": {
    "name": "ipython",
    "version": 3
   },
   "file_extension": ".py",
   "mimetype": "text/x-python",
   "name": "python",
   "nbconvert_exporter": "python",
   "pygments_lexer": "ipython3",
   "version": "3.9.7"
  }
 },
 "nbformat": 4,
 "nbformat_minor": 5
}
