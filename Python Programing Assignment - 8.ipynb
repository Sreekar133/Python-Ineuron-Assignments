{
 "cells": [
  {
   "cell_type": "code",
   "execution_count": 31,
   "id": "aee89900",
   "metadata": {},
   "outputs": [
    {
     "name": "stdout",
     "output_type": "stream",
     "text": [
      "enter the matrices in m*n3\n",
      "enter the matrices1\n",
      "enter the matrices2\n",
      "enter the matrices3\n",
      "enter the matrices4\n",
      "enter the matrices5\n",
      "enter the matrices6\n",
      "enter the matrices7\n",
      "enter the matrices8\n",
      "enter the matrices9\n",
      "[[1, 2, 3], [4, 5, 6], [7, 8, 9]]\n",
      "enter the matrices in m*n3\n",
      "enter the matrices1\n",
      "enter the matrices2\n",
      "enter the matrices3\n",
      "enter the matrices4\n",
      "enter the matrices5\n",
      "enter the matrices6\n",
      "enter the matrices7\n",
      "enter the matrices8\n",
      "enter the matrices9\n",
      "[[1, 2, 3], [4, 5, 6], [7, 8, 9]]\n",
      "[[2, 0, 0], [0, 0, 0], [0, 0, 0]]\n",
      "[[2, 4, 0], [0, 0, 0], [0, 0, 0]]\n",
      "[[2, 4, 6], [0, 0, 0], [0, 0, 0]]\n",
      "[[2, 4, 6], [8, 0, 0], [0, 0, 0]]\n",
      "[[2, 4, 6], [8, 10, 0], [0, 0, 0]]\n",
      "[[2, 4, 6], [8, 10, 12], [0, 0, 0]]\n",
      "[[2, 4, 6], [8, 10, 12], [14, 0, 0]]\n",
      "[[2, 4, 6], [8, 10, 12], [14, 16, 0]]\n",
      "[[2, 4, 6], [8, 10, 12], [14, 16, 18]]\n"
     ]
    }
   ],
   "source": [
    "#Python Program to add new matrices\n",
    "a=[]\n",
    "\n",
    "n = int(input(\"enter the matrices in m*n\"))\n",
    "\n",
    "for i in range(n):\n",
    "    row=[]\n",
    "    for j in range(n):\n",
    "        row.append(int(input(\"enter the matrices\")))\n",
    "    a.append(row)\n",
    "print(a)\n",
    "\n",
    "b=[]\n",
    "\n",
    "n = int(input(\"enter the matrices in m*n\"))\n",
    "\n",
    "for i in range(n):\n",
    "    row=[]\n",
    "    for j in range(n):\n",
    "        row.append(int(input(\"enter the matrices\")))\n",
    "    b.append(row)\n",
    "print(b)\n",
    "\n",
    "\n",
    "result = [[0,0,0],[0,0,0],[0,0,0]]\n",
    "\n",
    "for i in range(n):\n",
    "    for j in range(len(a[0])):\n",
    "        result [i] [j] = a[i][j]+b[i][j]\n",
    "        \n",
    "        \n",
    "for r in result:\n",
    "    print(r)"
   ]
  },
  {
   "cell_type": "code",
   "execution_count": 35,
   "id": "4fe73c97",
   "metadata": {},
   "outputs": [
    {
     "name": "stdout",
     "output_type": "stream",
     "text": [
      "enter the matrices in m*n3\n",
      "enter the matrices1\n",
      "enter the matrices2\n",
      "enter the matrices3\n",
      "enter the matrices4\n",
      "enter the matrices5\n",
      "enter the matrices6\n",
      "enter the matrices7\n",
      "enter the matrices8\n",
      "enter the matrices9\n",
      "[[1, 2, 3], [4, 5, 6], [7, 8, 9]]\n",
      "enter the matrices in m*n3\n",
      "enter the matrices1\n",
      "enter the matrices2\n",
      "enter the matrices3\n",
      "enter the matrices4\n",
      "enter the matrices5\n",
      "enter the matrices6\n",
      "enter the matrices7\n",
      "enter the matrices8\n",
      "enter the matrices9\n",
      "[[1, 2, 3], [4, 5, 6], [7, 8, 9]]\n",
      "[30, 36, 42]\n",
      "[66, 81, 96]\n",
      "[102, 126, 150]\n"
     ]
    }
   ],
   "source": [
    "#python program to multiply two numbers\n",
    "a=[]\n",
    "\n",
    "n = int(input(\"enter the matrices in m*n\"))\n",
    "\n",
    "for i in range(n):\n",
    "    row=[]\n",
    "    for j in range(n):\n",
    "        row.append(int(input(\"enter the matrices\")))\n",
    "    a.append(row)\n",
    "print(a)\n",
    "\n",
    "b=[]\n",
    "\n",
    "n = int(input(\"enter the matrices in m*n\"))\n",
    "\n",
    "for i in range(n):\n",
    "    row=[]\n",
    "    for j in range(n):\n",
    "        row.append(int(input(\"enter the matrices\")))\n",
    "    b.append(row)\n",
    "print(b)\n",
    "\n",
    "\n",
    "result = [[0,0,0],[0,0,0],[0,0,0]]\n",
    "\n",
    "for i in range(len(a)):\n",
    "    for j in range(len(b[0])):\n",
    "        for k in range(len(b)):\n",
    "            \n",
    "            result [i] [j] += a[i][k]*b[k][j]\n",
    "        \n",
    "for r in result:\n",
    "    print(r)\n"
   ]
  },
  {
   "cell_type": "code",
   "execution_count": 2,
   "id": "30077c45",
   "metadata": {},
   "outputs": [
    {
     "name": "stdout",
     "output_type": "stream",
     "text": [
      "enter the matrices form m*n2\n",
      "please enter the matrices1\n",
      "please enter the matrices2\n",
      "please enter the matrices3\n",
      "please enter the matrices4\n",
      "[[1, 2], [3, 4]]\n",
      "1 2 \n",
      "3 4 \n",
      "[1, 3]\n",
      "[2, 4]\n"
     ]
    }
   ],
   "source": [
    "#python program for transpose of matrix\n",
    "\n",
    "A=[]\n",
    "\n",
    "n = int(input(\"enter the matrices form m*n\"))\n",
    "\n",
    "for i in range(n):\n",
    "    row=[]\n",
    "    for j in range(n):\n",
    "        row.append(int(input(\"please enter the matrices\")))\n",
    "    A.append(row)\n",
    "print(A)\n",
    "\n",
    "for i in range(n):\n",
    "        for j in range(n):\n",
    "            print(A[i][j], end=\" \")        \n",
    "        print()\n",
    "\n",
    "result = [[0,0],[0,0]]\n",
    "            \n",
    "for i in range(len(A)):\n",
    "    for j in range(len(A[0])):\n",
    "        result [i] [j] = A[j] [i]\n",
    "        \n",
    "for r in result:\n",
    "    print(r)\n",
    "        \n",
    "        \n",
    "\n"
   ]
  },
  {
   "cell_type": "code",
   "execution_count": 19,
   "id": "9b925da8",
   "metadata": {},
   "outputs": [
    {
     "name": "stdout",
     "output_type": "stream",
     "text": [
      "please enter the linei am learning Programming\n",
      "['Programming', 'am', 'i', 'learning']\n",
      "Programming\n",
      "am\n",
      "i\n",
      "learning\n"
     ]
    }
   ],
   "source": [
    "#Write a Python Program to Sort Words in Alphabetic Order?\n",
    "\n",
    "string = input(\"please enter the line\")\n",
    "words = string.split()\n",
    "words.sort()\n",
    "print(words)\n",
    "\n",
    "for i in words:\n",
    "    print(i)\n",
    "\n",
    "    "
   ]
  },
  {
   "cell_type": "code",
   "execution_count": 22,
   "id": "32b28b03",
   "metadata": {},
   "outputs": [
    {
     "name": "stdout",
     "output_type": "stream",
     "text": [
      "Object `String` not found.\n",
      "please enter the string with punchuationsHello Programmer, Could you please write the program??????????\n",
      "Hello Programmer Could you please write the program\n"
     ]
    }
   ],
   "source": [
    "Write a Python Program to Remove Punctuation From a String?\n",
    "\n",
    "punctuations = '''!()-[]{};:'\"\\,<>./?@#$%^&*_~'''\n",
    "\n",
    "string = input(\"please enter the string with punchuations\")\n",
    "\n",
    "for x in string:\n",
    "    if x in punctuations:\n",
    "        string=string.replace(x,\"\")\n",
    "print(string)\n"
   ]
  },
  {
   "cell_type": "code",
   "execution_count": null,
   "id": "b92ddef0",
   "metadata": {},
   "outputs": [],
   "source": []
  }
 ],
 "metadata": {
  "kernelspec": {
   "display_name": "Python 3 (ipykernel)",
   "language": "python",
   "name": "python3"
  },
  "language_info": {
   "codemirror_mode": {
    "name": "ipython",
    "version": 3
   },
   "file_extension": ".py",
   "mimetype": "text/x-python",
   "name": "python",
   "nbconvert_exporter": "python",
   "pygments_lexer": "ipython3",
   "version": "3.9.7"
  }
 },
 "nbformat": 4,
 "nbformat_minor": 5
}
